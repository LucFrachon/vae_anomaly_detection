{
  "metadata": {
    "kernelspec": {
      "language": "python",
      "display_name": "Python 3",
      "name": "python3"
    },
    "language_info": {
      "name": "python",
      "version": "3.7.12",
      "mimetype": "text/x-python",
      "codemirror_mode": {
        "name": "ipython",
        "version": 3
      },
      "pygments_lexer": "ipython3",
      "nbconvert_exporter": "python",
      "file_extension": ".py"
    },
    "colab": {
      "provenance": [],
      "include_colab_link": true
    },
    "accelerator": "GPU",
    "gpuClass": "standard",
    "widgets": {
      "application/vnd.jupyter.widget-state+json": {
        "02e54cb5f2be4637afd5ab687ad045d1": {
          "model_module": "@jupyter-widgets/controls",
          "model_name": "HBoxModel",
          "model_module_version": "1.5.0",
          "state": {
            "_dom_classes": [],
            "_model_module": "@jupyter-widgets/controls",
            "_model_module_version": "1.5.0",
            "_model_name": "HBoxModel",
            "_view_count": null,
            "_view_module": "@jupyter-widgets/controls",
            "_view_module_version": "1.5.0",
            "_view_name": "HBoxView",
            "box_style": "",
            "children": [
              "IPY_MODEL_c0f7b0e265db430b83464bf80d22319a",
              "IPY_MODEL_5cb64868705f48aeb3389550c0de7fa3",
              "IPY_MODEL_670d7061db104f01a175b05519f4c706"
            ],
            "layout": "IPY_MODEL_f4594555d24f45278475c1ff52a8ec88"
          }
        },
        "c0f7b0e265db430b83464bf80d22319a": {
          "model_module": "@jupyter-widgets/controls",
          "model_name": "HTMLModel",
          "model_module_version": "1.5.0",
          "state": {
            "_dom_classes": [],
            "_model_module": "@jupyter-widgets/controls",
            "_model_module_version": "1.5.0",
            "_model_name": "HTMLModel",
            "_view_count": null,
            "_view_module": "@jupyter-widgets/controls",
            "_view_module_version": "1.5.0",
            "_view_name": "HTMLView",
            "description": "",
            "description_tooltip": null,
            "layout": "IPY_MODEL_ca33d08ff36e4dddb0814a6fe4d818dd",
            "placeholder": "​",
            "style": "IPY_MODEL_d05e83c308b74b08b3ffc58119177cee",
            "value": "Epoch 59: 100%"
          }
        },
        "5cb64868705f48aeb3389550c0de7fa3": {
          "model_module": "@jupyter-widgets/controls",
          "model_name": "FloatProgressModel",
          "model_module_version": "1.5.0",
          "state": {
            "_dom_classes": [],
            "_model_module": "@jupyter-widgets/controls",
            "_model_module_version": "1.5.0",
            "_model_name": "FloatProgressModel",
            "_view_count": null,
            "_view_module": "@jupyter-widgets/controls",
            "_view_module_version": "1.5.0",
            "_view_name": "ProgressView",
            "bar_style": "success",
            "description": "",
            "description_tooltip": null,
            "layout": "IPY_MODEL_cf73695b74b84c558f96aea549dcb1fa",
            "max": 125,
            "min": 0,
            "orientation": "horizontal",
            "style": "IPY_MODEL_da2f4a0d50444059a2b7f13655deaaa9",
            "value": 125
          }
        },
        "670d7061db104f01a175b05519f4c706": {
          "model_module": "@jupyter-widgets/controls",
          "model_name": "HTMLModel",
          "model_module_version": "1.5.0",
          "state": {
            "_dom_classes": [],
            "_model_module": "@jupyter-widgets/controls",
            "_model_module_version": "1.5.0",
            "_model_name": "HTMLModel",
            "_view_count": null,
            "_view_module": "@jupyter-widgets/controls",
            "_view_module_version": "1.5.0",
            "_view_name": "HTMLView",
            "description": "",
            "description_tooltip": null,
            "layout": "IPY_MODEL_dd49894fb0f54a58b10ef6668c5ec3f0",
            "placeholder": "​",
            "style": "IPY_MODEL_ba4495b242104f5a871e976f6a228204",
            "value": " 125/125 [00:01&lt;00:00, 86.24it/s, v_num=R_v1, total_loss=0.0237, recon_loss=0.0219, kld=0.0369]"
          }
        },
        "f4594555d24f45278475c1ff52a8ec88": {
          "model_module": "@jupyter-widgets/base",
          "model_name": "LayoutModel",
          "model_module_version": "1.2.0",
          "state": {
            "_model_module": "@jupyter-widgets/base",
            "_model_module_version": "1.2.0",
            "_model_name": "LayoutModel",
            "_view_count": null,
            "_view_module": "@jupyter-widgets/base",
            "_view_module_version": "1.2.0",
            "_view_name": "LayoutView",
            "align_content": null,
            "align_items": null,
            "align_self": null,
            "border": null,
            "bottom": null,
            "display": "inline-flex",
            "flex": null,
            "flex_flow": "row wrap",
            "grid_area": null,
            "grid_auto_columns": null,
            "grid_auto_flow": null,
            "grid_auto_rows": null,
            "grid_column": null,
            "grid_gap": null,
            "grid_row": null,
            "grid_template_areas": null,
            "grid_template_columns": null,
            "grid_template_rows": null,
            "height": null,
            "justify_content": null,
            "justify_items": null,
            "left": null,
            "margin": null,
            "max_height": null,
            "max_width": null,
            "min_height": null,
            "min_width": null,
            "object_fit": null,
            "object_position": null,
            "order": null,
            "overflow": null,
            "overflow_x": null,
            "overflow_y": null,
            "padding": null,
            "right": null,
            "top": null,
            "visibility": null,
            "width": "100%"
          }
        },
        "ca33d08ff36e4dddb0814a6fe4d818dd": {
          "model_module": "@jupyter-widgets/base",
          "model_name": "LayoutModel",
          "model_module_version": "1.2.0",
          "state": {
            "_model_module": "@jupyter-widgets/base",
            "_model_module_version": "1.2.0",
            "_model_name": "LayoutModel",
            "_view_count": null,
            "_view_module": "@jupyter-widgets/base",
            "_view_module_version": "1.2.0",
            "_view_name": "LayoutView",
            "align_content": null,
            "align_items": null,
            "align_self": null,
            "border": null,
            "bottom": null,
            "display": null,
            "flex": null,
            "flex_flow": null,
            "grid_area": null,
            "grid_auto_columns": null,
            "grid_auto_flow": null,
            "grid_auto_rows": null,
            "grid_column": null,
            "grid_gap": null,
            "grid_row": null,
            "grid_template_areas": null,
            "grid_template_columns": null,
            "grid_template_rows": null,
            "height": null,
            "justify_content": null,
            "justify_items": null,
            "left": null,
            "margin": null,
            "max_height": null,
            "max_width": null,
            "min_height": null,
            "min_width": null,
            "object_fit": null,
            "object_position": null,
            "order": null,
            "overflow": null,
            "overflow_x": null,
            "overflow_y": null,
            "padding": null,
            "right": null,
            "top": null,
            "visibility": null,
            "width": null
          }
        },
        "d05e83c308b74b08b3ffc58119177cee": {
          "model_module": "@jupyter-widgets/controls",
          "model_name": "DescriptionStyleModel",
          "model_module_version": "1.5.0",
          "state": {
            "_model_module": "@jupyter-widgets/controls",
            "_model_module_version": "1.5.0",
            "_model_name": "DescriptionStyleModel",
            "_view_count": null,
            "_view_module": "@jupyter-widgets/base",
            "_view_module_version": "1.2.0",
            "_view_name": "StyleView",
            "description_width": ""
          }
        },
        "cf73695b74b84c558f96aea549dcb1fa": {
          "model_module": "@jupyter-widgets/base",
          "model_name": "LayoutModel",
          "model_module_version": "1.2.0",
          "state": {
            "_model_module": "@jupyter-widgets/base",
            "_model_module_version": "1.2.0",
            "_model_name": "LayoutModel",
            "_view_count": null,
            "_view_module": "@jupyter-widgets/base",
            "_view_module_version": "1.2.0",
            "_view_name": "LayoutView",
            "align_content": null,
            "align_items": null,
            "align_self": null,
            "border": null,
            "bottom": null,
            "display": null,
            "flex": "2",
            "flex_flow": null,
            "grid_area": null,
            "grid_auto_columns": null,
            "grid_auto_flow": null,
            "grid_auto_rows": null,
            "grid_column": null,
            "grid_gap": null,
            "grid_row": null,
            "grid_template_areas": null,
            "grid_template_columns": null,
            "grid_template_rows": null,
            "height": null,
            "justify_content": null,
            "justify_items": null,
            "left": null,
            "margin": null,
            "max_height": null,
            "max_width": null,
            "min_height": null,
            "min_width": null,
            "object_fit": null,
            "object_position": null,
            "order": null,
            "overflow": null,
            "overflow_x": null,
            "overflow_y": null,
            "padding": null,
            "right": null,
            "top": null,
            "visibility": null,
            "width": null
          }
        },
        "da2f4a0d50444059a2b7f13655deaaa9": {
          "model_module": "@jupyter-widgets/controls",
          "model_name": "ProgressStyleModel",
          "model_module_version": "1.5.0",
          "state": {
            "_model_module": "@jupyter-widgets/controls",
            "_model_module_version": "1.5.0",
            "_model_name": "ProgressStyleModel",
            "_view_count": null,
            "_view_module": "@jupyter-widgets/base",
            "_view_module_version": "1.2.0",
            "_view_name": "StyleView",
            "bar_color": null,
            "description_width": ""
          }
        },
        "dd49894fb0f54a58b10ef6668c5ec3f0": {
          "model_module": "@jupyter-widgets/base",
          "model_name": "LayoutModel",
          "model_module_version": "1.2.0",
          "state": {
            "_model_module": "@jupyter-widgets/base",
            "_model_module_version": "1.2.0",
            "_model_name": "LayoutModel",
            "_view_count": null,
            "_view_module": "@jupyter-widgets/base",
            "_view_module_version": "1.2.0",
            "_view_name": "LayoutView",
            "align_content": null,
            "align_items": null,
            "align_self": null,
            "border": null,
            "bottom": null,
            "display": null,
            "flex": null,
            "flex_flow": null,
            "grid_area": null,
            "grid_auto_columns": null,
            "grid_auto_flow": null,
            "grid_auto_rows": null,
            "grid_column": null,
            "grid_gap": null,
            "grid_row": null,
            "grid_template_areas": null,
            "grid_template_columns": null,
            "grid_template_rows": null,
            "height": null,
            "justify_content": null,
            "justify_items": null,
            "left": null,
            "margin": null,
            "max_height": null,
            "max_width": null,
            "min_height": null,
            "min_width": null,
            "object_fit": null,
            "object_position": null,
            "order": null,
            "overflow": null,
            "overflow_x": null,
            "overflow_y": null,
            "padding": null,
            "right": null,
            "top": null,
            "visibility": null,
            "width": null
          }
        },
        "ba4495b242104f5a871e976f6a228204": {
          "model_module": "@jupyter-widgets/controls",
          "model_name": "DescriptionStyleModel",
          "model_module_version": "1.5.0",
          "state": {
            "_model_module": "@jupyter-widgets/controls",
            "_model_module_version": "1.5.0",
            "_model_name": "DescriptionStyleModel",
            "_view_count": null,
            "_view_module": "@jupyter-widgets/base",
            "_view_module_version": "1.2.0",
            "_view_name": "StyleView",
            "description_width": ""
          }
        },
        "83105b8f7c87468584d3cf5f15da7e78": {
          "model_module": "@jupyter-widgets/controls",
          "model_name": "HBoxModel",
          "model_module_version": "1.5.0",
          "state": {
            "_dom_classes": [],
            "_model_module": "@jupyter-widgets/controls",
            "_model_module_version": "1.5.0",
            "_model_name": "HBoxModel",
            "_view_count": null,
            "_view_module": "@jupyter-widgets/controls",
            "_view_module_version": "1.5.0",
            "_view_name": "HBoxView",
            "box_style": "",
            "children": [
              "IPY_MODEL_1c67b81f9f8c44b5b7af013af057c759",
              "IPY_MODEL_6e5547d9da5747af95b37a0bed86b0de",
              "IPY_MODEL_9c704ac520e74088b24a6ea33ec3cf1c"
            ],
            "layout": "IPY_MODEL_57e06b4f4aea4615ae1f4aab2df96db9"
          }
        },
        "1c67b81f9f8c44b5b7af013af057c759": {
          "model_module": "@jupyter-widgets/controls",
          "model_name": "HTMLModel",
          "model_module_version": "1.5.0",
          "state": {
            "_dom_classes": [],
            "_model_module": "@jupyter-widgets/controls",
            "_model_module_version": "1.5.0",
            "_model_name": "HTMLModel",
            "_view_count": null,
            "_view_module": "@jupyter-widgets/controls",
            "_view_module_version": "1.5.0",
            "_view_name": "HTMLView",
            "description": "",
            "description_tooltip": null,
            "layout": "IPY_MODEL_a86496cf49964f3c8dd2bf88041c3ed7",
            "placeholder": "​",
            "style": "IPY_MODEL_114312b592d0487f99e3400aebd596c6",
            "value": "Testing DataLoader 0: 100%"
          }
        },
        "6e5547d9da5747af95b37a0bed86b0de": {
          "model_module": "@jupyter-widgets/controls",
          "model_name": "FloatProgressModel",
          "model_module_version": "1.5.0",
          "state": {
            "_dom_classes": [],
            "_model_module": "@jupyter-widgets/controls",
            "_model_module_version": "1.5.0",
            "_model_name": "FloatProgressModel",
            "_view_count": null,
            "_view_module": "@jupyter-widgets/controls",
            "_view_module_version": "1.5.0",
            "_view_name": "ProgressView",
            "bar_style": "success",
            "description": "",
            "description_tooltip": null,
            "layout": "IPY_MODEL_1ae7d9faec584b7581a3655242f2c8ee",
            "max": 54,
            "min": 0,
            "orientation": "horizontal",
            "style": "IPY_MODEL_569fe444d9f341a0a5a07ea0edd577ca",
            "value": 54
          }
        },
        "9c704ac520e74088b24a6ea33ec3cf1c": {
          "model_module": "@jupyter-widgets/controls",
          "model_name": "HTMLModel",
          "model_module_version": "1.5.0",
          "state": {
            "_dom_classes": [],
            "_model_module": "@jupyter-widgets/controls",
            "_model_module_version": "1.5.0",
            "_model_name": "HTMLModel",
            "_view_count": null,
            "_view_module": "@jupyter-widgets/controls",
            "_view_module_version": "1.5.0",
            "_view_name": "HTMLView",
            "description": "",
            "description_tooltip": null,
            "layout": "IPY_MODEL_eed6baf918464779915d82aa703bb782",
            "placeholder": "​",
            "style": "IPY_MODEL_4fe9bb7b2b8642cfb627bdc866895c3a",
            "value": " 54/54 [00:00&lt;00:00, 168.45it/s]"
          }
        },
        "57e06b4f4aea4615ae1f4aab2df96db9": {
          "model_module": "@jupyter-widgets/base",
          "model_name": "LayoutModel",
          "model_module_version": "1.2.0",
          "state": {
            "_model_module": "@jupyter-widgets/base",
            "_model_module_version": "1.2.0",
            "_model_name": "LayoutModel",
            "_view_count": null,
            "_view_module": "@jupyter-widgets/base",
            "_view_module_version": "1.2.0",
            "_view_name": "LayoutView",
            "align_content": null,
            "align_items": null,
            "align_self": null,
            "border": null,
            "bottom": null,
            "display": "inline-flex",
            "flex": null,
            "flex_flow": "row wrap",
            "grid_area": null,
            "grid_auto_columns": null,
            "grid_auto_flow": null,
            "grid_auto_rows": null,
            "grid_column": null,
            "grid_gap": null,
            "grid_row": null,
            "grid_template_areas": null,
            "grid_template_columns": null,
            "grid_template_rows": null,
            "height": null,
            "justify_content": null,
            "justify_items": null,
            "left": null,
            "margin": null,
            "max_height": null,
            "max_width": null,
            "min_height": null,
            "min_width": null,
            "object_fit": null,
            "object_position": null,
            "order": null,
            "overflow": null,
            "overflow_x": null,
            "overflow_y": null,
            "padding": null,
            "right": null,
            "top": null,
            "visibility": null,
            "width": "100%"
          }
        },
        "a86496cf49964f3c8dd2bf88041c3ed7": {
          "model_module": "@jupyter-widgets/base",
          "model_name": "LayoutModel",
          "model_module_version": "1.2.0",
          "state": {
            "_model_module": "@jupyter-widgets/base",
            "_model_module_version": "1.2.0",
            "_model_name": "LayoutModel",
            "_view_count": null,
            "_view_module": "@jupyter-widgets/base",
            "_view_module_version": "1.2.0",
            "_view_name": "LayoutView",
            "align_content": null,
            "align_items": null,
            "align_self": null,
            "border": null,
            "bottom": null,
            "display": null,
            "flex": null,
            "flex_flow": null,
            "grid_area": null,
            "grid_auto_columns": null,
            "grid_auto_flow": null,
            "grid_auto_rows": null,
            "grid_column": null,
            "grid_gap": null,
            "grid_row": null,
            "grid_template_areas": null,
            "grid_template_columns": null,
            "grid_template_rows": null,
            "height": null,
            "justify_content": null,
            "justify_items": null,
            "left": null,
            "margin": null,
            "max_height": null,
            "max_width": null,
            "min_height": null,
            "min_width": null,
            "object_fit": null,
            "object_position": null,
            "order": null,
            "overflow": null,
            "overflow_x": null,
            "overflow_y": null,
            "padding": null,
            "right": null,
            "top": null,
            "visibility": null,
            "width": null
          }
        },
        "114312b592d0487f99e3400aebd596c6": {
          "model_module": "@jupyter-widgets/controls",
          "model_name": "DescriptionStyleModel",
          "model_module_version": "1.5.0",
          "state": {
            "_model_module": "@jupyter-widgets/controls",
            "_model_module_version": "1.5.0",
            "_model_name": "DescriptionStyleModel",
            "_view_count": null,
            "_view_module": "@jupyter-widgets/base",
            "_view_module_version": "1.2.0",
            "_view_name": "StyleView",
            "description_width": ""
          }
        },
        "1ae7d9faec584b7581a3655242f2c8ee": {
          "model_module": "@jupyter-widgets/base",
          "model_name": "LayoutModel",
          "model_module_version": "1.2.0",
          "state": {
            "_model_module": "@jupyter-widgets/base",
            "_model_module_version": "1.2.0",
            "_model_name": "LayoutModel",
            "_view_count": null,
            "_view_module": "@jupyter-widgets/base",
            "_view_module_version": "1.2.0",
            "_view_name": "LayoutView",
            "align_content": null,
            "align_items": null,
            "align_self": null,
            "border": null,
            "bottom": null,
            "display": null,
            "flex": "2",
            "flex_flow": null,
            "grid_area": null,
            "grid_auto_columns": null,
            "grid_auto_flow": null,
            "grid_auto_rows": null,
            "grid_column": null,
            "grid_gap": null,
            "grid_row": null,
            "grid_template_areas": null,
            "grid_template_columns": null,
            "grid_template_rows": null,
            "height": null,
            "justify_content": null,
            "justify_items": null,
            "left": null,
            "margin": null,
            "max_height": null,
            "max_width": null,
            "min_height": null,
            "min_width": null,
            "object_fit": null,
            "object_position": null,
            "order": null,
            "overflow": null,
            "overflow_x": null,
            "overflow_y": null,
            "padding": null,
            "right": null,
            "top": null,
            "visibility": null,
            "width": null
          }
        },
        "569fe444d9f341a0a5a07ea0edd577ca": {
          "model_module": "@jupyter-widgets/controls",
          "model_name": "ProgressStyleModel",
          "model_module_version": "1.5.0",
          "state": {
            "_model_module": "@jupyter-widgets/controls",
            "_model_module_version": "1.5.0",
            "_model_name": "ProgressStyleModel",
            "_view_count": null,
            "_view_module": "@jupyter-widgets/base",
            "_view_module_version": "1.2.0",
            "_view_name": "StyleView",
            "bar_color": null,
            "description_width": ""
          }
        },
        "eed6baf918464779915d82aa703bb782": {
          "model_module": "@jupyter-widgets/base",
          "model_name": "LayoutModel",
          "model_module_version": "1.2.0",
          "state": {
            "_model_module": "@jupyter-widgets/base",
            "_model_module_version": "1.2.0",
            "_model_name": "LayoutModel",
            "_view_count": null,
            "_view_module": "@jupyter-widgets/base",
            "_view_module_version": "1.2.0",
            "_view_name": "LayoutView",
            "align_content": null,
            "align_items": null,
            "align_self": null,
            "border": null,
            "bottom": null,
            "display": null,
            "flex": null,
            "flex_flow": null,
            "grid_area": null,
            "grid_auto_columns": null,
            "grid_auto_flow": null,
            "grid_auto_rows": null,
            "grid_column": null,
            "grid_gap": null,
            "grid_row": null,
            "grid_template_areas": null,
            "grid_template_columns": null,
            "grid_template_rows": null,
            "height": null,
            "justify_content": null,
            "justify_items": null,
            "left": null,
            "margin": null,
            "max_height": null,
            "max_width": null,
            "min_height": null,
            "min_width": null,
            "object_fit": null,
            "object_position": null,
            "order": null,
            "overflow": null,
            "overflow_x": null,
            "overflow_y": null,
            "padding": null,
            "right": null,
            "top": null,
            "visibility": null,
            "width": null
          }
        },
        "4fe9bb7b2b8642cfb627bdc866895c3a": {
          "model_module": "@jupyter-widgets/controls",
          "model_name": "DescriptionStyleModel",
          "model_module_version": "1.5.0",
          "state": {
            "_model_module": "@jupyter-widgets/controls",
            "_model_module_version": "1.5.0",
            "_model_name": "DescriptionStyleModel",
            "_view_count": null,
            "_view_module": "@jupyter-widgets/base",
            "_view_module_version": "1.2.0",
            "_view_name": "StyleView",
            "description_width": ""
          }
        }
      }
    }
  },
  "nbformat_minor": 0,
  "nbformat": 4,
  "cells": [
    {
      "cell_type": "markdown",
      "metadata": {
        "id": "view-in-github",
        "colab_type": "text"
      },
      "source": [
        "<a href=\"https://colab.research.google.com/github/LucFrachon/vae_anomaly_detection/blob/main/anomaly_detection_using_vaes.ipynb\" target=\"_parent\"><img src=\"https://colab.research.google.com/assets/colab-badge.svg\" alt=\"Open In Colab\"/></a>"
      ]
    },
    {
      "cell_type": "markdown",
      "source": [
        "# Anomaly Detection using a Variational Auto-Encoder\n",
        "In this project, we are using a Variational Auto-Encoder (VAE) to detect anomalies in a timeseries."
      ],
      "metadata": {
        "id": "DY87Rfs4_M4z"
      }
    },
    {
      "cell_type": "markdown",
      "source": [
        "## 1. Introduction to VAEs in Anomaly Detection\n",
        "### 1.1 What is a VAE?\n",
        "VAEs are a class of generative models that learn a compressed latent representation of the data. Intuitively, they learn the inherent structure of the data, so that it can be reconstructed just by providing a few values. As an analogy, imagine that you were asked to describe any object to someone just from basic shapes, so that they can draw it. It would take ages to explain everything in enough detail. Now, imaging you can tell them the object is in fact a dog. Immediately, it becomes much easier to explain, and within a few minutes, you should be able to give a pretty accurate description of the dog. This is because you and your friend share a common knowledge of what constitutes a dog and what distinguishes one dog from another. With this pre-learned knowledge, the description of the object becomes much more compact. \n",
        "\n",
        "To learn this structure, the VAE has two parts: An encoder and a decoder. The compact representation (the \"latent vector\") is sandwiched between these two parts. During training, we present the encoder with data samples that it converts into latent vectors. Then the decoder takes the latent vectors and tries to reconstruct the data samples. By minimising the recontruction error (plus a regularisation loss, more on that later), the encoder gets better at compressing the data into a meaningful latent vector, and the decoder becomes better at converting this latent vector into plausible reconstructed samples.\n",
        "\n",
        "However, we also need to make sure that the VAE is able to reconstruct samples outside of the training set, i.e. to generalise. This is achieved by penalising (\"regularising\") the reconstruction loss with an additional term, the Kullback-Leibler Divergence. In broad terms, this ensures that the VAE learns the distribution of the data, rather than the datapoints themselves. There is much more to the theory of VAEs (e.g. the \"reparameterisation trick\") but this is outside the scope of this notebook. You can learn a lot more about VAEs [here](https://arxiv.org/abs/1606.05908) \\[1\\].\n",
        "\n",
        "### 1.2 Why use a VAE in Anomaly Detection?\n",
        "\n",
        "The idea behind Anomaly Detection is to detect samples that are far from what is usually seen, in some sense or other. The definition of \"far\" is the difficult bit. In simple, one-dimensional cases, we could just look at the value tracked over time and decide that extreme values are anomalies. Lots of methods use this idea in more or less sophisticated ways.\n",
        "\n",
        "However, things become trickier in higher-dimensional spaces where variables interact with each other or are correlated in some non-obvious ways. Sure, a sheep is \"far\" from a dog, but how do you formalise this distance? Its size is clearly not enough: some dogs are as big or larger than sheeps. Colour doesn't work either -- there are black sheeps and white dogs. Ear shape -- let's not even go there. The decision will clearly require a combination of many variables.\n",
        "\n",
        "This is where VAEs come in useful. As we saw, a VAE trained on dogs will have learned a latent, non-explicit representation of the structural features of a dog. What will happen if we pass it an instance of a sheep? It will try to reconstruct the sheep, but since the structure of a sheep is different to that of a dog, most likely the reconstruction will not be very good. As a result, the reconstruction loss will probably be quite poor on this particular sample, much worse than on dog instances -- at least if our VAE has benn properly trained. By detecting data samples that cause a large reconstruction loss, we can therefore hope to identify anomalies.\n",
        "\n",
        "The process is as follows:  \n",
        "\n",
        "- Gather and preprocess data, including train/test split,\n",
        "- Build a VAE and train it on the training set,\n",
        "- Pass test samples to the VAE and record the reconstruction loss for each,\n",
        "- Identify test samples with a reconstruction loss higher than some criterion and flag them as anomalies."
      ],
      "metadata": {
        "id": "Jm69--qu_M42"
      }
    },
    {
      "cell_type": "markdown",
      "source": [
        "### 1.3 Scope of this project\n",
        "In this notebook, we will use one of the public datasets available on Kaggle: https://www.kaggle.com/boltzmannbrain/nab\n",
        "It contains many one-dimensional timeseries, but to make things a bit more interesting, we will do some feature engineering and make the data multi-dimensional. This is also often useful in improving the accuracy of any model."
      ],
      "metadata": {
        "id": "OyXsop3O_M45"
      }
    },
    {
      "cell_type": "markdown",
      "source": [
        "## 2. Data preprocessing\n",
        "\n",
        "Much of the pre-processing in this section has been inspired by this great [notebook](https://www.kaggle.com/victorambonati/unsupervised-anomaly-detection) by Victor Ambonati.\n",
        "\n",
        "Before we start, we need to install and import some useful libraries. For this project, I am using [Pytorch-Lightning](https://pytorch-lightning.readthedocs.io/en/latest/), a thin layer on top of Pytorch that handles a lot of the tedious tasks such as writing a training loop. The experiments are recorded using [Weights and Biases](https://app.wandb.ai/), but you can use whatever method you want, or none."
      ],
      "metadata": {
        "id": "-yqtWq2p_M46"
      }
    },
    {
      "cell_type": "code",
      "source": [
        "!pip install lightning wandb kaggle"
      ],
      "metadata": {
        "colab": {
          "base_uri": "https://localhost:8080/"
        },
        "id": "XkZHAYZF_M47",
        "outputId": "d71c4e0d-c0bf-4b5b-9f47-a697cba89c4d"
      },
      "execution_count": null,
      "outputs": [
        {
          "output_type": "stream",
          "name": "stdout",
          "text": [
            "Looking in indexes: https://pypi.org/simple, https://us-python.pkg.dev/colab-wheels/public/simple/\n",
            "Requirement already satisfied: lightning in /usr/local/lib/python3.9/dist-packages (2.0.1)\n",
            "Requirement already satisfied: wandb in /usr/local/lib/python3.9/dist-packages (0.14.2)\n",
            "Requirement already satisfied: kaggle in /usr/local/lib/python3.9/dist-packages (1.5.13)\n",
            "Requirement already satisfied: websockets<12.0 in /usr/local/lib/python3.9/dist-packages (from lightning) (11.0.1)\n",
            "Requirement already satisfied: requests<4.0 in /usr/local/lib/python3.9/dist-packages (from lightning) (2.27.1)\n",
            "Requirement already satisfied: croniter<1.4.0,>=1.3.0 in /usr/local/lib/python3.9/dist-packages (from lightning) (1.3.10)\n",
            "Requirement already satisfied: lightning-cloud>=0.5.31 in /usr/local/lib/python3.9/dist-packages (from lightning) (0.5.32)\n",
            "Requirement already satisfied: traitlets<7.0,>=5.3.0 in /usr/local/lib/python3.9/dist-packages (from lightning) (5.7.1)\n",
            "Requirement already satisfied: tqdm<6.0,>=4.57.0 in /usr/local/lib/python3.9/dist-packages (from lightning) (4.65.0)\n",
            "Requirement already satisfied: uvicorn<2.0 in /usr/local/lib/python3.9/dist-packages (from lightning) (0.21.1)\n",
            "Requirement already satisfied: lightning-utilities<2.0,>=0.7.0 in /usr/local/lib/python3.9/dist-packages (from lightning) (0.8.0)\n",
            "Requirement already satisfied: torchmetrics<2.0,>=0.7.0 in /usr/local/lib/python3.9/dist-packages (from lightning) (0.11.4)\n",
            "Requirement already satisfied: numpy<3.0,>=1.17.2 in /usr/local/lib/python3.9/dist-packages (from lightning) (1.22.4)\n",
            "Requirement already satisfied: packaging in /usr/local/lib/python3.9/dist-packages (from lightning) (23.0)\n",
            "Requirement already satisfied: fsspec<2024.0,>=2022.5.0 in /usr/local/lib/python3.9/dist-packages (from lightning) (2023.3.0)\n",
            "Requirement already satisfied: click<10.0 in /usr/local/lib/python3.9/dist-packages (from lightning) (8.1.3)\n",
            "Requirement already satisfied: starlette<2.0 in /usr/local/lib/python3.9/dist-packages (from lightning) (0.22.0)\n",
            "Requirement already satisfied: dateutils<2.0 in /usr/local/lib/python3.9/dist-packages (from lightning) (0.6.12)\n",
            "Requirement already satisfied: Jinja2<5.0 in /usr/local/lib/python3.9/dist-packages (from lightning) (3.1.2)\n",
            "Requirement already satisfied: urllib3<3.0 in /usr/local/lib/python3.9/dist-packages (from lightning) (1.26.15)\n",
            "Requirement already satisfied: typing-extensions<6.0,>=4.0.0 in /usr/local/lib/python3.9/dist-packages (from lightning) (4.5.0)\n",
            "Requirement already satisfied: websocket-client<3.0 in /usr/local/lib/python3.9/dist-packages (from lightning) (1.5.1)\n",
            "Requirement already satisfied: fastapi<0.89.0 in /usr/local/lib/python3.9/dist-packages (from lightning) (0.88.0)\n",
            "Requirement already satisfied: PyYAML<8.0 in /usr/local/lib/python3.9/dist-packages (from lightning) (6.0)\n",
            "Requirement already satisfied: inquirer<5.0,>=2.10.0 in /usr/local/lib/python3.9/dist-packages (from lightning) (3.1.3)\n",
            "Requirement already satisfied: psutil<7.0 in /usr/local/lib/python3.9/dist-packages (from lightning) (5.9.4)\n",
            "Requirement already satisfied: deepdiff<8.0,>=5.7.0 in /usr/local/lib/python3.9/dist-packages (from lightning) (6.3.0)\n",
            "Requirement already satisfied: pytorch-lightning in /usr/local/lib/python3.9/dist-packages (from lightning) (2.0.1)\n",
            "Requirement already satisfied: pydantic<3.0 in /usr/local/lib/python3.9/dist-packages (from lightning) (1.10.7)\n",
            "Requirement already satisfied: beautifulsoup4<6.0,>=4.8.0 in /usr/local/lib/python3.9/dist-packages (from lightning) (4.11.2)\n",
            "Requirement already satisfied: rich<15.0,>=12.3.0 in /usr/local/lib/python3.9/dist-packages (from lightning) (13.3.3)\n",
            "Requirement already satisfied: starsessions<2.0,>=1.2.1 in /usr/local/lib/python3.9/dist-packages (from lightning) (1.3.0)\n",
            "Requirement already satisfied: arrow<3.0,>=1.2.0 in /usr/local/lib/python3.9/dist-packages (from lightning) (1.2.3)\n",
            "Requirement already satisfied: torch<4.0,>=1.11.0 in /usr/local/lib/python3.9/dist-packages (from lightning) (2.0.0+cu118)\n",
            "Requirement already satisfied: docker-pycreds>=0.4.0 in /usr/local/lib/python3.9/dist-packages (from wandb) (0.4.0)\n",
            "Requirement already satisfied: setuptools in /usr/local/lib/python3.9/dist-packages (from wandb) (67.6.1)\n",
            "Requirement already satisfied: protobuf!=4.21.0,<5,>=3.15.0 in /usr/local/lib/python3.9/dist-packages (from wandb) (3.20.3)\n",
            "Requirement already satisfied: pathtools in /usr/local/lib/python3.9/dist-packages (from wandb) (0.1.2)\n",
            "Requirement already satisfied: GitPython!=3.1.29,>=1.0.0 in /usr/local/lib/python3.9/dist-packages (from wandb) (3.1.31)\n",
            "Requirement already satisfied: sentry-sdk>=1.0.0 in /usr/local/lib/python3.9/dist-packages (from wandb) (1.19.1)\n",
            "Requirement already satisfied: setproctitle in /usr/local/lib/python3.9/dist-packages (from wandb) (1.3.2)\n",
            "Requirement already satisfied: appdirs>=1.4.3 in /usr/local/lib/python3.9/dist-packages (from wandb) (1.4.4)\n",
            "Requirement already satisfied: six>=1.10 in /usr/local/lib/python3.9/dist-packages (from kaggle) (1.16.0)\n",
            "Requirement already satisfied: python-slugify in /usr/local/lib/python3.9/dist-packages (from kaggle) (8.0.1)\n",
            "Requirement already satisfied: python-dateutil in /usr/local/lib/python3.9/dist-packages (from kaggle) (2.8.2)\n",
            "Requirement already satisfied: certifi in /usr/local/lib/python3.9/dist-packages (from kaggle) (2022.12.7)\n",
            "Requirement already satisfied: soupsieve>1.2 in /usr/local/lib/python3.9/dist-packages (from beautifulsoup4<6.0,>=4.8.0->lightning) (2.4)\n",
            "Requirement already satisfied: pytz in /usr/local/lib/python3.9/dist-packages (from dateutils<2.0->lightning) (2022.7.1)\n",
            "Requirement already satisfied: ordered-set<4.2.0,>=4.0.2 in /usr/local/lib/python3.9/dist-packages (from deepdiff<8.0,>=5.7.0->lightning) (4.1.0)\n",
            "Requirement already satisfied: anyio<5,>=3.4.0 in /usr/local/lib/python3.9/dist-packages (from starlette<2.0->lightning) (3.6.2)\n",
            "Requirement already satisfied: aiohttp!=4.0.0a0,!=4.0.0a1 in /usr/local/lib/python3.9/dist-packages (from fsspec<2024.0,>=2022.5.0->lightning) (3.8.4)\n",
            "Requirement already satisfied: gitdb<5,>=4.0.1 in /usr/local/lib/python3.9/dist-packages (from GitPython!=3.1.29,>=1.0.0->wandb) (4.0.10)\n",
            "Requirement already satisfied: python-editor>=1.0.4 in /usr/local/lib/python3.9/dist-packages (from inquirer<5.0,>=2.10.0->lightning) (1.0.4)\n",
            "Requirement already satisfied: blessed>=1.19.0 in /usr/local/lib/python3.9/dist-packages (from inquirer<5.0,>=2.10.0->lightning) (1.20.0)\n",
            "Requirement already satisfied: readchar>=3.0.6 in /usr/local/lib/python3.9/dist-packages (from inquirer<5.0,>=2.10.0->lightning) (4.0.5)\n",
            "Requirement already satisfied: MarkupSafe>=2.0 in /usr/local/lib/python3.9/dist-packages (from Jinja2<5.0->lightning) (2.1.2)\n",
            "Requirement already satisfied: pyjwt in /usr/local/lib/python3.9/dist-packages (from lightning-cloud>=0.5.31->lightning) (2.6.0)\n",
            "Requirement already satisfied: idna<4,>=2.5 in /usr/local/lib/python3.9/dist-packages (from requests<4.0->lightning) (3.4)\n",
            "Requirement already satisfied: charset-normalizer~=2.0.0 in /usr/local/lib/python3.9/dist-packages (from requests<4.0->lightning) (2.0.12)\n",
            "Requirement already satisfied: pygments<3.0.0,>=2.13.0 in /usr/local/lib/python3.9/dist-packages (from rich<15.0,>=12.3.0->lightning) (2.14.0)\n",
            "Requirement already satisfied: markdown-it-py<3.0.0,>=2.2.0 in /usr/local/lib/python3.9/dist-packages (from rich<15.0,>=12.3.0->lightning) (2.2.0)\n",
            "Requirement already satisfied: itsdangerous<3.0.0,>=2.0.1 in /usr/local/lib/python3.9/dist-packages (from starsessions<2.0,>=1.2.1->lightning) (2.1.2)\n",
            "Requirement already satisfied: filelock in /usr/local/lib/python3.9/dist-packages (from torch<4.0,>=1.11.0->lightning) (3.10.7)\n",
            "Requirement already satisfied: networkx in /usr/local/lib/python3.9/dist-packages (from torch<4.0,>=1.11.0->lightning) (3.0)\n",
            "Requirement already satisfied: sympy in /usr/local/lib/python3.9/dist-packages (from torch<4.0,>=1.11.0->lightning) (1.11.1)\n",
            "Requirement already satisfied: triton==2.0.0 in /usr/local/lib/python3.9/dist-packages (from torch<4.0,>=1.11.0->lightning) (2.0.0)\n",
            "Requirement already satisfied: cmake in /usr/local/lib/python3.9/dist-packages (from triton==2.0.0->torch<4.0,>=1.11.0->lightning) (3.25.2)\n",
            "Requirement already satisfied: lit in /usr/local/lib/python3.9/dist-packages (from triton==2.0.0->torch<4.0,>=1.11.0->lightning) (16.0.0)\n",
            "Requirement already satisfied: h11>=0.8 in /usr/local/lib/python3.9/dist-packages (from uvicorn<2.0->lightning) (0.14.0)\n",
            "Requirement already satisfied: text-unidecode>=1.3 in /usr/local/lib/python3.9/dist-packages (from python-slugify->kaggle) (1.3)\n",
            "Requirement already satisfied: yarl<2.0,>=1.0 in /usr/local/lib/python3.9/dist-packages (from aiohttp!=4.0.0a0,!=4.0.0a1->fsspec<2024.0,>=2022.5.0->lightning) (1.8.2)\n",
            "Requirement already satisfied: attrs>=17.3.0 in /usr/local/lib/python3.9/dist-packages (from aiohttp!=4.0.0a0,!=4.0.0a1->fsspec<2024.0,>=2022.5.0->lightning) (22.2.0)\n",
            "Requirement already satisfied: multidict<7.0,>=4.5 in /usr/local/lib/python3.9/dist-packages (from aiohttp!=4.0.0a0,!=4.0.0a1->fsspec<2024.0,>=2022.5.0->lightning) (6.0.4)\n",
            "Requirement already satisfied: async-timeout<5.0,>=4.0.0a3 in /usr/local/lib/python3.9/dist-packages (from aiohttp!=4.0.0a0,!=4.0.0a1->fsspec<2024.0,>=2022.5.0->lightning) (4.0.2)\n",
            "Requirement already satisfied: frozenlist>=1.1.1 in /usr/local/lib/python3.9/dist-packages (from aiohttp!=4.0.0a0,!=4.0.0a1->fsspec<2024.0,>=2022.5.0->lightning) (1.3.3)\n",
            "Requirement already satisfied: aiosignal>=1.1.2 in /usr/local/lib/python3.9/dist-packages (from aiohttp!=4.0.0a0,!=4.0.0a1->fsspec<2024.0,>=2022.5.0->lightning) (1.3.1)\n",
            "Requirement already satisfied: sniffio>=1.1 in /usr/local/lib/python3.9/dist-packages (from anyio<5,>=3.4.0->starlette<2.0->lightning) (1.3.0)\n",
            "Requirement already satisfied: wcwidth>=0.1.4 in /usr/local/lib/python3.9/dist-packages (from blessed>=1.19.0->inquirer<5.0,>=2.10.0->lightning) (0.2.6)\n",
            "Requirement already satisfied: smmap<6,>=3.0.1 in /usr/local/lib/python3.9/dist-packages (from gitdb<5,>=4.0.1->GitPython!=3.1.29,>=1.0.0->wandb) (5.0.0)\n",
            "Requirement already satisfied: mdurl~=0.1 in /usr/local/lib/python3.9/dist-packages (from markdown-it-py<3.0.0,>=2.2.0->rich<15.0,>=12.3.0->lightning) (0.1.2)\n",
            "Requirement already satisfied: ujson!=4.0.2,!=4.1.0,!=4.2.0,!=4.3.0,!=5.0.0,!=5.1.0,>=4.0.1 in /usr/local/lib/python3.9/dist-packages (from fastapi<0.89.0->lightning) (5.7.0)\n",
            "Requirement already satisfied: python-multipart>=0.0.5 in /usr/local/lib/python3.9/dist-packages (from fastapi<0.89.0->lightning) (0.0.6)\n",
            "Requirement already satisfied: httpx>=0.23.0 in /usr/local/lib/python3.9/dist-packages (from fastapi<0.89.0->lightning) (0.23.3)\n",
            "Requirement already satisfied: orjson>=3.2.1 in /usr/local/lib/python3.9/dist-packages (from fastapi<0.89.0->lightning) (3.8.10)\n",
            "Requirement already satisfied: email-validator>=1.1.1 in /usr/local/lib/python3.9/dist-packages (from fastapi<0.89.0->lightning) (1.3.1)\n",
            "Requirement already satisfied: mpmath>=0.19 in /usr/local/lib/python3.9/dist-packages (from sympy->torch<4.0,>=1.11.0->lightning) (1.3.0)\n",
            "Requirement already satisfied: dnspython>=1.15.0 in /usr/local/lib/python3.9/dist-packages (from email-validator>=1.1.1->fastapi<0.89.0->lightning) (2.3.0)\n",
            "Requirement already satisfied: httpcore<0.17.0,>=0.15.0 in /usr/local/lib/python3.9/dist-packages (from httpx>=0.23.0->fastapi<0.89.0->lightning) (0.16.3)\n",
            "Requirement already satisfied: rfc3986[idna2008]<2,>=1.3 in /usr/local/lib/python3.9/dist-packages (from httpx>=0.23.0->fastapi<0.89.0->lightning) (1.5.0)\n",
            "Requirement already satisfied: httptools>=0.5.0 in /usr/local/lib/python3.9/dist-packages (from uvicorn<2.0->lightning) (0.5.0)\n",
            "Requirement already satisfied: watchfiles>=0.13 in /usr/local/lib/python3.9/dist-packages (from uvicorn<2.0->lightning) (0.19.0)\n",
            "Requirement already satisfied: uvloop!=0.15.0,!=0.15.1,>=0.14.0 in /usr/local/lib/python3.9/dist-packages (from uvicorn<2.0->lightning) (0.17.0)\n",
            "Requirement already satisfied: python-dotenv>=0.13 in /usr/local/lib/python3.9/dist-packages (from uvicorn<2.0->lightning) (1.0.0)\n"
          ]
        }
      ]
    },
    {
      "cell_type": "code",
      "source": [
        "!touch ~/.kaggle/kaggle.json\n",
        "\n",
        "api_token = {\"username\":\"xxxx\",\"key\":\"xxxx\"}\n",
        "\n",
        "import json\n",
        "\n",
        "with open('/root/.kaggle/kaggle.json', 'w') as file:\n",
        "    json.dump(api_token, file)\n",
        "\n",
        "!chmod 600 ~/.kaggle/kaggle.json"
      ],
      "metadata": {
        "id": "A0cmQ1cdIAjd"
      },
      "execution_count": null,
      "outputs": []
    },
    {
      "cell_type": "code",
      "source": [
        "import os, sys\n",
        "from argparse import Namespace\n",
        "import numpy as np\n",
        "import pandas as pd\n",
        "from pathlib import Path\n",
        "from collections import OrderedDict\n",
        "import torch\n",
        "import torch.nn as nn\n",
        "import torch.nn.functional as F\n",
        "from torch.utils.data import Dataset, DataLoader\n",
        "import sklearn\n",
        "from sklearn import preprocessing\n",
        "import matplotlib\n",
        "import matplotlib.pyplot as plt\n",
        "import pytorch_lightning as pl\n",
        "# from pytorch_lightning.loggers import WandbLogger\n",
        "from pytorch_lightning.loggers.wandb import WandbLogger  # newer implementation\n",
        "import wandb\n",
        "import kaggle\n",
        "\n",
        "plt.style.use('tableau-colorblind10')"
      ],
      "metadata": {
        "_uuid": "d629ff2d2480ee46fbb7e2d37f6b5fab8052498a",
        "_cell_guid": "79c7e3d0-c299-4dcb-8224-4455121ee9b0",
        "execution": {
          "iopub.status.busy": "2022-11-04T14:39:52.871422Z",
          "iopub.execute_input": "2022-11-04T14:39:52.871872Z",
          "iopub.status.idle": "2022-11-04T14:39:52.880071Z",
          "shell.execute_reply.started": "2022-11-04T14:39:52.871829Z",
          "shell.execute_reply": "2022-11-04T14:39:52.879071Z"
        },
        "trusted": true,
        "id": "IVqcRRex_M48"
      },
      "execution_count": null,
      "outputs": []
    },
    {
      "cell_type": "code",
      "source": [
        "print('Python version:', sys.version)\n",
        "print('Package versions:')\n",
        "print('Pytorch:', torch.__version__)\n",
        "print('Pytorch-Lightning:', pl.__version__)\n",
        "print('Matplotlib:', matplotlib.__version__)\n",
        "print('scikit-learn:', sklearn.__version__)\n",
        "print('Weights&Biases:', wandb.__version__)"
      ],
      "metadata": {
        "execution": {
          "iopub.status.busy": "2022-11-04T14:39:52.881811Z",
          "iopub.execute_input": "2022-11-04T14:39:52.882166Z",
          "iopub.status.idle": "2022-11-04T14:39:52.892103Z",
          "shell.execute_reply.started": "2022-11-04T14:39:52.882128Z",
          "shell.execute_reply": "2022-11-04T14:39:52.890958Z"
        },
        "trusted": true,
        "colab": {
          "base_uri": "https://localhost:8080/"
        },
        "id": "kvD1xjvp_M49",
        "outputId": "e8ed06d1-64ee-450b-b403-613428e8ffe0"
      },
      "execution_count": null,
      "outputs": [
        {
          "output_type": "stream",
          "name": "stdout",
          "text": [
            "Python version: 3.9.16 (main, Dec  7 2022, 01:11:51) \n",
            "[GCC 9.4.0]\n",
            "Package versions:\n",
            "Pytorch: 2.0.0+cu118\n",
            "Pytorch-Lightning: 2.0.1\n",
            "Matplotlib: 3.7.1\n",
            "scikit-learn: 1.2.2\n",
            "Weights&Biases: 0.14.2\n"
          ]
        }
      ]
    },
    {
      "cell_type": "code",
      "source": [
        "!mkdir /content/raw_data\n",
        "!kaggle datasets download -d boltzmannbrain/nab "
      ],
      "metadata": {
        "colab": {
          "base_uri": "https://localhost:8080/"
        },
        "id": "9LCICRA0HGEW",
        "outputId": "2c57fa88-ef82-43f5-aef1-ffe2388cd6a1"
      },
      "execution_count": null,
      "outputs": [
        {
          "output_type": "stream",
          "name": "stdout",
          "text": [
            "Downloading nab.zip to /content\n",
            "100% 1.64M/1.64M [00:01<00:00, 1.84MB/s]\n",
            "100% 1.64M/1.64M [00:01<00:00, 1.65MB/s]\n"
          ]
        }
      ]
    },
    {
      "cell_type": "code",
      "source": [
        "!unzip /content/nab.zip -d /content/raw_data"
      ],
      "metadata": {
        "colab": {
          "base_uri": "https://localhost:8080/"
        },
        "id": "0m9lQwJgIwAI",
        "outputId": "7756f784-14b0-4d1d-86b4-ae269652058f"
      },
      "execution_count": null,
      "outputs": [
        {
          "output_type": "stream",
          "name": "stdout",
          "text": [
            "Archive:  /content/nab.zip\n",
            "  inflating: /content/raw_data/README.md  \n",
            "  inflating: /content/raw_data/artificialNoAnomaly/artificialNoAnomaly/art_daily_no_noise.csv  \n",
            "  inflating: /content/raw_data/artificialNoAnomaly/artificialNoAnomaly/art_daily_perfect_square_wave.csv  \n",
            "  inflating: /content/raw_data/artificialNoAnomaly/artificialNoAnomaly/art_daily_small_noise.csv  \n",
            "  inflating: /content/raw_data/artificialNoAnomaly/artificialNoAnomaly/art_flatline.csv  \n",
            "  inflating: /content/raw_data/artificialNoAnomaly/artificialNoAnomaly/art_noisy.csv  \n",
            "  inflating: /content/raw_data/artificialWithAnomaly/artificialWithAnomaly/art_daily_flatmiddle.csv  \n",
            "  inflating: /content/raw_data/artificialWithAnomaly/artificialWithAnomaly/art_daily_jumpsdown.csv  \n",
            "  inflating: /content/raw_data/artificialWithAnomaly/artificialWithAnomaly/art_daily_jumpsup.csv  \n",
            "  inflating: /content/raw_data/artificialWithAnomaly/artificialWithAnomaly/art_daily_nojump.csv  \n",
            "  inflating: /content/raw_data/artificialWithAnomaly/artificialWithAnomaly/art_increase_spike_density.csv  \n",
            "  inflating: /content/raw_data/artificialWithAnomaly/artificialWithAnomaly/art_load_balancer_spikes.csv  \n",
            "  inflating: /content/raw_data/realAWSCloudwatch/realAWSCloudwatch/ec2_cpu_utilization_24ae8d.csv  \n",
            "  inflating: /content/raw_data/realAWSCloudwatch/realAWSCloudwatch/ec2_cpu_utilization_53ea38.csv  \n",
            "  inflating: /content/raw_data/realAWSCloudwatch/realAWSCloudwatch/ec2_cpu_utilization_5f5533.csv  \n",
            "  inflating: /content/raw_data/realAWSCloudwatch/realAWSCloudwatch/ec2_cpu_utilization_77c1ca.csv  \n",
            "  inflating: /content/raw_data/realAWSCloudwatch/realAWSCloudwatch/ec2_cpu_utilization_825cc2.csv  \n",
            "  inflating: /content/raw_data/realAWSCloudwatch/realAWSCloudwatch/ec2_cpu_utilization_ac20cd.csv  \n",
            "  inflating: /content/raw_data/realAWSCloudwatch/realAWSCloudwatch/ec2_cpu_utilization_c6585a.csv  \n",
            "  inflating: /content/raw_data/realAWSCloudwatch/realAWSCloudwatch/ec2_cpu_utilization_fe7f93.csv  \n",
            "  inflating: /content/raw_data/realAWSCloudwatch/realAWSCloudwatch/ec2_disk_write_bytes_1ef3de.csv  \n",
            "  inflating: /content/raw_data/realAWSCloudwatch/realAWSCloudwatch/ec2_disk_write_bytes_c0d644.csv  \n",
            "  inflating: /content/raw_data/realAWSCloudwatch/realAWSCloudwatch/ec2_network_in_257a54.csv  \n",
            "  inflating: /content/raw_data/realAWSCloudwatch/realAWSCloudwatch/ec2_network_in_5abac7.csv  \n",
            "  inflating: /content/raw_data/realAWSCloudwatch/realAWSCloudwatch/elb_request_count_8c0756.csv  \n",
            "  inflating: /content/raw_data/realAWSCloudwatch/realAWSCloudwatch/grok_asg_anomaly.csv  \n",
            "  inflating: /content/raw_data/realAWSCloudwatch/realAWSCloudwatch/iio_us-east-1_i-a2eb1cd9_NetworkIn.csv  \n",
            "  inflating: /content/raw_data/realAWSCloudwatch/realAWSCloudwatch/rds_cpu_utilization_cc0c53.csv  \n",
            "  inflating: /content/raw_data/realAWSCloudwatch/realAWSCloudwatch/rds_cpu_utilization_e47b3b.csv  \n",
            "  inflating: /content/raw_data/realAdExchange/realAdExchange/exchange-2_cpc_results.csv  \n",
            "  inflating: /content/raw_data/realAdExchange/realAdExchange/exchange-2_cpm_results.csv  \n",
            "  inflating: /content/raw_data/realAdExchange/realAdExchange/exchange-3_cpc_results.csv  \n",
            "  inflating: /content/raw_data/realAdExchange/realAdExchange/exchange-3_cpm_results.csv  \n",
            "  inflating: /content/raw_data/realAdExchange/realAdExchange/exchange-4_cpc_results.csv  \n",
            "  inflating: /content/raw_data/realAdExchange/realAdExchange/exchange-4_cpm_results.csv  \n",
            "  inflating: /content/raw_data/realKnownCause/realKnownCause/ambient_temperature_system_failure.csv  \n",
            "  inflating: /content/raw_data/realKnownCause/realKnownCause/cpu_utilization_asg_misconfiguration.csv  \n",
            "  inflating: /content/raw_data/realKnownCause/realKnownCause/ec2_request_latency_system_failure.csv  \n",
            "  inflating: /content/raw_data/realKnownCause/realKnownCause/machine_temperature_system_failure.csv  \n",
            "  inflating: /content/raw_data/realKnownCause/realKnownCause/nyc_taxi.csv  \n",
            "  inflating: /content/raw_data/realKnownCause/realKnownCause/rogue_agent_key_hold.csv  \n",
            "  inflating: /content/raw_data/realKnownCause/realKnownCause/rogue_agent_key_updown.csv  \n",
            "  inflating: /content/raw_data/realTraffic/__MACOSX/realTraffic/._.DS_Store  \n",
            "  inflating: /content/raw_data/realTraffic/__MACOSX/realTraffic/._occupancy_6005.csv  \n",
            "  inflating: /content/raw_data/realTraffic/__MACOSX/realTraffic/._speed_6005.csv  \n",
            "  inflating: /content/raw_data/realTraffic/realTraffic/.DS_Store  \n",
            "  inflating: /content/raw_data/realTraffic/realTraffic/TravelTime_387.csv  \n",
            "  inflating: /content/raw_data/realTraffic/realTraffic/TravelTime_451.csv  \n",
            "  inflating: /content/raw_data/realTraffic/realTraffic/occupancy_6005.csv  \n",
            "  inflating: /content/raw_data/realTraffic/realTraffic/occupancy_t4013.csv  \n",
            "  inflating: /content/raw_data/realTraffic/realTraffic/speed_6005.csv  \n",
            "  inflating: /content/raw_data/realTraffic/realTraffic/speed_7578.csv  \n",
            "  inflating: /content/raw_data/realTraffic/realTraffic/speed_t4013.csv  \n",
            "  inflating: /content/raw_data/realTweets/realTweets/Twitter_volume_AAPL.csv  \n",
            "  inflating: /content/raw_data/realTweets/realTweets/Twitter_volume_AMZN.csv  \n",
            "  inflating: /content/raw_data/realTweets/realTweets/Twitter_volume_CRM.csv  \n",
            "  inflating: /content/raw_data/realTweets/realTweets/Twitter_volume_CVS.csv  \n",
            "  inflating: /content/raw_data/realTweets/realTweets/Twitter_volume_FB.csv  \n",
            "  inflating: /content/raw_data/realTweets/realTweets/Twitter_volume_GOOG.csv  \n",
            "  inflating: /content/raw_data/realTweets/realTweets/Twitter_volume_IBM.csv  \n",
            "  inflating: /content/raw_data/realTweets/realTweets/Twitter_volume_KO.csv  \n",
            "  inflating: /content/raw_data/realTweets/realTweets/Twitter_volume_PFE.csv  \n",
            "  inflating: /content/raw_data/realTweets/realTweets/Twitter_volume_UPS.csv  \n"
          ]
        }
      ]
    },
    {
      "cell_type": "markdown",
      "source": [
        "These are the available datasets:"
      ],
      "metadata": {
        "id": "8fGL1fMF_M4-"
      }
    },
    {
      "cell_type": "code",
      "source": [
        "for dirname, _, filenames in os.walk('/content/raw_data'):\n",
        "    for filename in filenames:\n",
        "        print(os.path.join(dirname, filename))"
      ],
      "metadata": {
        "_uuid": "8f2839f25d086af736a60e9eeb907d3b93b6e0e5",
        "_cell_guid": "b1076dfc-b9ad-4769-8c92-a6c4dae69d19",
        "execution": {
          "iopub.status.busy": "2022-11-04T14:39:52.895433Z",
          "iopub.execute_input": "2022-11-04T14:39:52.895862Z",
          "iopub.status.idle": "2022-11-04T14:39:53.060570Z",
          "shell.execute_reply.started": "2022-11-04T14:39:52.895826Z",
          "shell.execute_reply": "2022-11-04T14:39:53.059546Z"
        },
        "trusted": true,
        "colab": {
          "base_uri": "https://localhost:8080/"
        },
        "id": "0QHaMJzf_M4_",
        "outputId": "73dd2c5f-08c9-4729-d3f9-bc832ac9ed4b"
      },
      "execution_count": null,
      "outputs": [
        {
          "output_type": "stream",
          "name": "stdout",
          "text": [
            "/content/raw_data/README.md\n",
            "/content/raw_data/realTraffic/realTraffic/speed_t4013.csv\n",
            "/content/raw_data/realTraffic/realTraffic/speed_6005.csv\n",
            "/content/raw_data/realTraffic/realTraffic/speed_7578.csv\n",
            "/content/raw_data/realTraffic/realTraffic/occupancy_6005.csv\n",
            "/content/raw_data/realTraffic/realTraffic/occupancy_t4013.csv\n",
            "/content/raw_data/realTraffic/realTraffic/TravelTime_387.csv\n",
            "/content/raw_data/realTraffic/realTraffic/TravelTime_451.csv\n",
            "/content/raw_data/realTraffic/realTraffic/.DS_Store\n",
            "/content/raw_data/realTraffic/__MACOSX/realTraffic/._speed_6005.csv\n",
            "/content/raw_data/realTraffic/__MACOSX/realTraffic/._occupancy_6005.csv\n",
            "/content/raw_data/realTraffic/__MACOSX/realTraffic/._.DS_Store\n",
            "/content/raw_data/realKnownCause/realKnownCause/rogue_agent_key_updown.csv\n",
            "/content/raw_data/realKnownCause/realKnownCause/machine_temperature_system_failure.csv\n",
            "/content/raw_data/realKnownCause/realKnownCause/cpu_utilization_asg_misconfiguration.csv\n",
            "/content/raw_data/realKnownCause/realKnownCause/ec2_request_latency_system_failure.csv\n",
            "/content/raw_data/realKnownCause/realKnownCause/ambient_temperature_system_failure.csv\n",
            "/content/raw_data/realKnownCause/realKnownCause/rogue_agent_key_hold.csv\n",
            "/content/raw_data/realKnownCause/realKnownCause/nyc_taxi.csv\n",
            "/content/raw_data/realTweets/realTweets/Twitter_volume_UPS.csv\n",
            "/content/raw_data/realTweets/realTweets/Twitter_volume_PFE.csv\n",
            "/content/raw_data/realTweets/realTweets/Twitter_volume_CVS.csv\n",
            "/content/raw_data/realTweets/realTweets/Twitter_volume_GOOG.csv\n",
            "/content/raw_data/realTweets/realTweets/Twitter_volume_FB.csv\n",
            "/content/raw_data/realTweets/realTweets/Twitter_volume_CRM.csv\n",
            "/content/raw_data/realTweets/realTweets/Twitter_volume_AMZN.csv\n",
            "/content/raw_data/realTweets/realTweets/Twitter_volume_IBM.csv\n",
            "/content/raw_data/realTweets/realTweets/Twitter_volume_KO.csv\n",
            "/content/raw_data/realTweets/realTweets/Twitter_volume_AAPL.csv\n",
            "/content/raw_data/realAWSCloudwatch/realAWSCloudwatch/ec2_disk_write_bytes_c0d644.csv\n",
            "/content/raw_data/realAWSCloudwatch/realAWSCloudwatch/ec2_network_in_5abac7.csv\n",
            "/content/raw_data/realAWSCloudwatch/realAWSCloudwatch/ec2_network_in_257a54.csv\n",
            "/content/raw_data/realAWSCloudwatch/realAWSCloudwatch/ec2_cpu_utilization_ac20cd.csv\n",
            "/content/raw_data/realAWSCloudwatch/realAWSCloudwatch/grok_asg_anomaly.csv\n",
            "/content/raw_data/realAWSCloudwatch/realAWSCloudwatch/ec2_disk_write_bytes_1ef3de.csv\n",
            "/content/raw_data/realAWSCloudwatch/realAWSCloudwatch/ec2_cpu_utilization_77c1ca.csv\n",
            "/content/raw_data/realAWSCloudwatch/realAWSCloudwatch/ec2_cpu_utilization_825cc2.csv\n",
            "/content/raw_data/realAWSCloudwatch/realAWSCloudwatch/elb_request_count_8c0756.csv\n",
            "/content/raw_data/realAWSCloudwatch/realAWSCloudwatch/rds_cpu_utilization_cc0c53.csv\n",
            "/content/raw_data/realAWSCloudwatch/realAWSCloudwatch/ec2_cpu_utilization_24ae8d.csv\n",
            "/content/raw_data/realAWSCloudwatch/realAWSCloudwatch/ec2_cpu_utilization_c6585a.csv\n",
            "/content/raw_data/realAWSCloudwatch/realAWSCloudwatch/ec2_cpu_utilization_5f5533.csv\n",
            "/content/raw_data/realAWSCloudwatch/realAWSCloudwatch/rds_cpu_utilization_e47b3b.csv\n",
            "/content/raw_data/realAWSCloudwatch/realAWSCloudwatch/ec2_cpu_utilization_53ea38.csv\n",
            "/content/raw_data/realAWSCloudwatch/realAWSCloudwatch/ec2_cpu_utilization_fe7f93.csv\n",
            "/content/raw_data/realAWSCloudwatch/realAWSCloudwatch/iio_us-east-1_i-a2eb1cd9_NetworkIn.csv\n",
            "/content/raw_data/realAdExchange/realAdExchange/exchange-3_cpm_results.csv\n",
            "/content/raw_data/realAdExchange/realAdExchange/exchange-4_cpc_results.csv\n",
            "/content/raw_data/realAdExchange/realAdExchange/exchange-2_cpm_results.csv\n",
            "/content/raw_data/realAdExchange/realAdExchange/exchange-4_cpm_results.csv\n",
            "/content/raw_data/realAdExchange/realAdExchange/exchange-3_cpc_results.csv\n",
            "/content/raw_data/realAdExchange/realAdExchange/exchange-2_cpc_results.csv\n",
            "/content/raw_data/artificialWithAnomaly/artificialWithAnomaly/art_daily_flatmiddle.csv\n",
            "/content/raw_data/artificialWithAnomaly/artificialWithAnomaly/art_increase_spike_density.csv\n",
            "/content/raw_data/artificialWithAnomaly/artificialWithAnomaly/art_load_balancer_spikes.csv\n",
            "/content/raw_data/artificialWithAnomaly/artificialWithAnomaly/art_daily_nojump.csv\n",
            "/content/raw_data/artificialWithAnomaly/artificialWithAnomaly/art_daily_jumpsup.csv\n",
            "/content/raw_data/artificialWithAnomaly/artificialWithAnomaly/art_daily_jumpsdown.csv\n",
            "/content/raw_data/artificialNoAnomaly/artificialNoAnomaly/art_flatline.csv\n",
            "/content/raw_data/artificialNoAnomaly/artificialNoAnomaly/art_daily_small_noise.csv\n",
            "/content/raw_data/artificialNoAnomaly/artificialNoAnomaly/art_daily_perfect_square_wave.csv\n",
            "/content/raw_data/artificialNoAnomaly/artificialNoAnomaly/art_daily_no_noise.csv\n",
            "/content/raw_data/artificialNoAnomaly/artificialNoAnomaly/art_noisy.csv\n"
          ]
        }
      ]
    },
    {
      "cell_type": "markdown",
      "source": [
        "We pick `machine_temperature_system_failure.csv`, but the pipeline below can apply to others too, with some minor adaptation. This data comes from a temperature sensor from an internal component of a large industrial machine."
      ],
      "metadata": {
        "id": "cy9awkbb_M5A"
      }
    },
    {
      "cell_type": "code",
      "source": [
        "!mkdir /content/datasets\n",
        "datafile_path = Path('/content/raw_data/realKnownCause/realKnownCause/machine_temperature_system_failure.csv')\n",
        "datasets_dir = Path('/content/datasets/')\n",
        "log_path = Path('/content/logs')"
      ],
      "metadata": {
        "execution": {
          "iopub.status.busy": "2022-11-04T14:39:53.061931Z",
          "iopub.execute_input": "2022-11-04T14:39:53.062826Z",
          "iopub.status.idle": "2022-11-04T14:39:53.067867Z",
          "shell.execute_reply.started": "2022-11-04T14:39:53.062788Z",
          "shell.execute_reply": "2022-11-04T14:39:53.066692Z"
        },
        "trusted": true,
        "id": "ZF_0TmwW_M5A"
      },
      "execution_count": null,
      "outputs": []
    },
    {
      "cell_type": "markdown",
      "source": [
        "The data is monodimensional: It only has one \"predictor\" (`timestamp`) and the outcome (`value`):"
      ],
      "metadata": {
        "id": "leph4XoA_M5B"
      }
    },
    {
      "cell_type": "code",
      "source": [
        "raw_dt = pd.read_csv(datafile_path)\n",
        "raw_dt.head()"
      ],
      "metadata": {
        "execution": {
          "iopub.status.busy": "2022-11-04T14:39:53.069400Z",
          "iopub.execute_input": "2022-11-04T14:39:53.070022Z",
          "iopub.status.idle": "2022-11-04T14:39:53.128304Z",
          "shell.execute_reply.started": "2022-11-04T14:39:53.069989Z",
          "shell.execute_reply": "2022-11-04T14:39:53.126766Z"
        },
        "trusted": true,
        "colab": {
          "base_uri": "https://localhost:8080/",
          "height": 206
        },
        "id": "szKEB-g8_M5B",
        "outputId": "63efc2bb-07a6-49ad-8bc2-9ba3d717c61d"
      },
      "execution_count": null,
      "outputs": [
        {
          "output_type": "execute_result",
          "data": {
            "text/plain": [
              "             timestamp      value\n",
              "0  2013-12-02 21:15:00  73.967322\n",
              "1  2013-12-02 21:20:00  74.935882\n",
              "2  2013-12-02 21:25:00  76.124162\n",
              "3  2013-12-02 21:30:00  78.140707\n",
              "4  2013-12-02 21:35:00  79.329836"
            ],
            "text/html": [
              "\n",
              "  <div id=\"df-1c83a113-c3ce-4407-9937-02cf8d417156\">\n",
              "    <div class=\"colab-df-container\">\n",
              "      <div>\n",
              "<style scoped>\n",
              "    .dataframe tbody tr th:only-of-type {\n",
              "        vertical-align: middle;\n",
              "    }\n",
              "\n",
              "    .dataframe tbody tr th {\n",
              "        vertical-align: top;\n",
              "    }\n",
              "\n",
              "    .dataframe thead th {\n",
              "        text-align: right;\n",
              "    }\n",
              "</style>\n",
              "<table border=\"1\" class=\"dataframe\">\n",
              "  <thead>\n",
              "    <tr style=\"text-align: right;\">\n",
              "      <th></th>\n",
              "      <th>timestamp</th>\n",
              "      <th>value</th>\n",
              "    </tr>\n",
              "  </thead>\n",
              "  <tbody>\n",
              "    <tr>\n",
              "      <th>0</th>\n",
              "      <td>2013-12-02 21:15:00</td>\n",
              "      <td>73.967322</td>\n",
              "    </tr>\n",
              "    <tr>\n",
              "      <th>1</th>\n",
              "      <td>2013-12-02 21:20:00</td>\n",
              "      <td>74.935882</td>\n",
              "    </tr>\n",
              "    <tr>\n",
              "      <th>2</th>\n",
              "      <td>2013-12-02 21:25:00</td>\n",
              "      <td>76.124162</td>\n",
              "    </tr>\n",
              "    <tr>\n",
              "      <th>3</th>\n",
              "      <td>2013-12-02 21:30:00</td>\n",
              "      <td>78.140707</td>\n",
              "    </tr>\n",
              "    <tr>\n",
              "      <th>4</th>\n",
              "      <td>2013-12-02 21:35:00</td>\n",
              "      <td>79.329836</td>\n",
              "    </tr>\n",
              "  </tbody>\n",
              "</table>\n",
              "</div>\n",
              "      <button class=\"colab-df-convert\" onclick=\"convertToInteractive('df-1c83a113-c3ce-4407-9937-02cf8d417156')\"\n",
              "              title=\"Convert this dataframe to an interactive table.\"\n",
              "              style=\"display:none;\">\n",
              "        \n",
              "  <svg xmlns=\"http://www.w3.org/2000/svg\" height=\"24px\"viewBox=\"0 0 24 24\"\n",
              "       width=\"24px\">\n",
              "    <path d=\"M0 0h24v24H0V0z\" fill=\"none\"/>\n",
              "    <path d=\"M18.56 5.44l.94 2.06.94-2.06 2.06-.94-2.06-.94-.94-2.06-.94 2.06-2.06.94zm-11 1L8.5 8.5l.94-2.06 2.06-.94-2.06-.94L8.5 2.5l-.94 2.06-2.06.94zm10 10l.94 2.06.94-2.06 2.06-.94-2.06-.94-.94-2.06-.94 2.06-2.06.94z\"/><path d=\"M17.41 7.96l-1.37-1.37c-.4-.4-.92-.59-1.43-.59-.52 0-1.04.2-1.43.59L10.3 9.45l-7.72 7.72c-.78.78-.78 2.05 0 2.83L4 21.41c.39.39.9.59 1.41.59.51 0 1.02-.2 1.41-.59l7.78-7.78 2.81-2.81c.8-.78.8-2.07 0-2.86zM5.41 20L4 18.59l7.72-7.72 1.47 1.35L5.41 20z\"/>\n",
              "  </svg>\n",
              "      </button>\n",
              "      \n",
              "  <style>\n",
              "    .colab-df-container {\n",
              "      display:flex;\n",
              "      flex-wrap:wrap;\n",
              "      gap: 12px;\n",
              "    }\n",
              "\n",
              "    .colab-df-convert {\n",
              "      background-color: #E8F0FE;\n",
              "      border: none;\n",
              "      border-radius: 50%;\n",
              "      cursor: pointer;\n",
              "      display: none;\n",
              "      fill: #1967D2;\n",
              "      height: 32px;\n",
              "      padding: 0 0 0 0;\n",
              "      width: 32px;\n",
              "    }\n",
              "\n",
              "    .colab-df-convert:hover {\n",
              "      background-color: #E2EBFA;\n",
              "      box-shadow: 0px 1px 2px rgba(60, 64, 67, 0.3), 0px 1px 3px 1px rgba(60, 64, 67, 0.15);\n",
              "      fill: #174EA6;\n",
              "    }\n",
              "\n",
              "    [theme=dark] .colab-df-convert {\n",
              "      background-color: #3B4455;\n",
              "      fill: #D2E3FC;\n",
              "    }\n",
              "\n",
              "    [theme=dark] .colab-df-convert:hover {\n",
              "      background-color: #434B5C;\n",
              "      box-shadow: 0px 1px 3px 1px rgba(0, 0, 0, 0.15);\n",
              "      filter: drop-shadow(0px 1px 2px rgba(0, 0, 0, 0.3));\n",
              "      fill: #FFFFFF;\n",
              "    }\n",
              "  </style>\n",
              "\n",
              "      <script>\n",
              "        const buttonEl =\n",
              "          document.querySelector('#df-1c83a113-c3ce-4407-9937-02cf8d417156 button.colab-df-convert');\n",
              "        buttonEl.style.display =\n",
              "          google.colab.kernel.accessAllowed ? 'block' : 'none';\n",
              "\n",
              "        async function convertToInteractive(key) {\n",
              "          const element = document.querySelector('#df-1c83a113-c3ce-4407-9937-02cf8d417156');\n",
              "          const dataTable =\n",
              "            await google.colab.kernel.invokeFunction('convertToInteractive',\n",
              "                                                     [key], {});\n",
              "          if (!dataTable) return;\n",
              "\n",
              "          const docLinkHtml = 'Like what you see? Visit the ' +\n",
              "            '<a target=\"_blank\" href=https://colab.research.google.com/notebooks/data_table.ipynb>data table notebook</a>'\n",
              "            + ' to learn more about interactive tables.';\n",
              "          element.innerHTML = '';\n",
              "          dataTable['output_type'] = 'display_data';\n",
              "          await google.colab.output.renderOutput(dataTable, element);\n",
              "          const docLink = document.createElement('div');\n",
              "          docLink.innerHTML = docLinkHtml;\n",
              "          element.appendChild(docLink);\n",
              "        }\n",
              "      </script>\n",
              "    </div>\n",
              "  </div>\n",
              "  "
            ]
          },
          "metadata": {},
          "execution_count": 29
        }
      ]
    },
    {
      "cell_type": "code",
      "source": [
        "raw_dt.describe()"
      ],
      "metadata": {
        "execution": {
          "iopub.status.busy": "2022-11-04T14:39:53.129587Z",
          "iopub.execute_input": "2022-11-04T14:39:53.130065Z",
          "iopub.status.idle": "2022-11-04T14:39:53.154472Z",
          "shell.execute_reply.started": "2022-11-04T14:39:53.130028Z",
          "shell.execute_reply": "2022-11-04T14:39:53.153452Z"
        },
        "trusted": true,
        "colab": {
          "base_uri": "https://localhost:8080/",
          "height": 300
        },
        "id": "N2JwiKsL_M5C",
        "outputId": "9b09f085-7c85-4f09-bd2b-1ac42cc38ca2"
      },
      "execution_count": null,
      "outputs": [
        {
          "output_type": "execute_result",
          "data": {
            "text/plain": [
              "              value\n",
              "count  22695.000000\n",
              "mean      85.926498\n",
              "std       13.746912\n",
              "min        2.084721\n",
              "25%       83.080078\n",
              "50%       89.408246\n",
              "75%       94.016252\n",
              "max      108.510543"
            ],
            "text/html": [
              "\n",
              "  <div id=\"df-e1d68a8d-f74a-497a-9d56-84ff9b958a43\">\n",
              "    <div class=\"colab-df-container\">\n",
              "      <div>\n",
              "<style scoped>\n",
              "    .dataframe tbody tr th:only-of-type {\n",
              "        vertical-align: middle;\n",
              "    }\n",
              "\n",
              "    .dataframe tbody tr th {\n",
              "        vertical-align: top;\n",
              "    }\n",
              "\n",
              "    .dataframe thead th {\n",
              "        text-align: right;\n",
              "    }\n",
              "</style>\n",
              "<table border=\"1\" class=\"dataframe\">\n",
              "  <thead>\n",
              "    <tr style=\"text-align: right;\">\n",
              "      <th></th>\n",
              "      <th>value</th>\n",
              "    </tr>\n",
              "  </thead>\n",
              "  <tbody>\n",
              "    <tr>\n",
              "      <th>count</th>\n",
              "      <td>22695.000000</td>\n",
              "    </tr>\n",
              "    <tr>\n",
              "      <th>mean</th>\n",
              "      <td>85.926498</td>\n",
              "    </tr>\n",
              "    <tr>\n",
              "      <th>std</th>\n",
              "      <td>13.746912</td>\n",
              "    </tr>\n",
              "    <tr>\n",
              "      <th>min</th>\n",
              "      <td>2.084721</td>\n",
              "    </tr>\n",
              "    <tr>\n",
              "      <th>25%</th>\n",
              "      <td>83.080078</td>\n",
              "    </tr>\n",
              "    <tr>\n",
              "      <th>50%</th>\n",
              "      <td>89.408246</td>\n",
              "    </tr>\n",
              "    <tr>\n",
              "      <th>75%</th>\n",
              "      <td>94.016252</td>\n",
              "    </tr>\n",
              "    <tr>\n",
              "      <th>max</th>\n",
              "      <td>108.510543</td>\n",
              "    </tr>\n",
              "  </tbody>\n",
              "</table>\n",
              "</div>\n",
              "      <button class=\"colab-df-convert\" onclick=\"convertToInteractive('df-e1d68a8d-f74a-497a-9d56-84ff9b958a43')\"\n",
              "              title=\"Convert this dataframe to an interactive table.\"\n",
              "              style=\"display:none;\">\n",
              "        \n",
              "  <svg xmlns=\"http://www.w3.org/2000/svg\" height=\"24px\"viewBox=\"0 0 24 24\"\n",
              "       width=\"24px\">\n",
              "    <path d=\"M0 0h24v24H0V0z\" fill=\"none\"/>\n",
              "    <path d=\"M18.56 5.44l.94 2.06.94-2.06 2.06-.94-2.06-.94-.94-2.06-.94 2.06-2.06.94zm-11 1L8.5 8.5l.94-2.06 2.06-.94-2.06-.94L8.5 2.5l-.94 2.06-2.06.94zm10 10l.94 2.06.94-2.06 2.06-.94-2.06-.94-.94-2.06-.94 2.06-2.06.94z\"/><path d=\"M17.41 7.96l-1.37-1.37c-.4-.4-.92-.59-1.43-.59-.52 0-1.04.2-1.43.59L10.3 9.45l-7.72 7.72c-.78.78-.78 2.05 0 2.83L4 21.41c.39.39.9.59 1.41.59.51 0 1.02-.2 1.41-.59l7.78-7.78 2.81-2.81c.8-.78.8-2.07 0-2.86zM5.41 20L4 18.59l7.72-7.72 1.47 1.35L5.41 20z\"/>\n",
              "  </svg>\n",
              "      </button>\n",
              "      \n",
              "  <style>\n",
              "    .colab-df-container {\n",
              "      display:flex;\n",
              "      flex-wrap:wrap;\n",
              "      gap: 12px;\n",
              "    }\n",
              "\n",
              "    .colab-df-convert {\n",
              "      background-color: #E8F0FE;\n",
              "      border: none;\n",
              "      border-radius: 50%;\n",
              "      cursor: pointer;\n",
              "      display: none;\n",
              "      fill: #1967D2;\n",
              "      height: 32px;\n",
              "      padding: 0 0 0 0;\n",
              "      width: 32px;\n",
              "    }\n",
              "\n",
              "    .colab-df-convert:hover {\n",
              "      background-color: #E2EBFA;\n",
              "      box-shadow: 0px 1px 2px rgba(60, 64, 67, 0.3), 0px 1px 3px 1px rgba(60, 64, 67, 0.15);\n",
              "      fill: #174EA6;\n",
              "    }\n",
              "\n",
              "    [theme=dark] .colab-df-convert {\n",
              "      background-color: #3B4455;\n",
              "      fill: #D2E3FC;\n",
              "    }\n",
              "\n",
              "    [theme=dark] .colab-df-convert:hover {\n",
              "      background-color: #434B5C;\n",
              "      box-shadow: 0px 1px 3px 1px rgba(0, 0, 0, 0.15);\n",
              "      filter: drop-shadow(0px 1px 2px rgba(0, 0, 0, 0.3));\n",
              "      fill: #FFFFFF;\n",
              "    }\n",
              "  </style>\n",
              "\n",
              "      <script>\n",
              "        const buttonEl =\n",
              "          document.querySelector('#df-e1d68a8d-f74a-497a-9d56-84ff9b958a43 button.colab-df-convert');\n",
              "        buttonEl.style.display =\n",
              "          google.colab.kernel.accessAllowed ? 'block' : 'none';\n",
              "\n",
              "        async function convertToInteractive(key) {\n",
              "          const element = document.querySelector('#df-e1d68a8d-f74a-497a-9d56-84ff9b958a43');\n",
              "          const dataTable =\n",
              "            await google.colab.kernel.invokeFunction('convertToInteractive',\n",
              "                                                     [key], {});\n",
              "          if (!dataTable) return;\n",
              "\n",
              "          const docLinkHtml = 'Like what you see? Visit the ' +\n",
              "            '<a target=\"_blank\" href=https://colab.research.google.com/notebooks/data_table.ipynb>data table notebook</a>'\n",
              "            + ' to learn more about interactive tables.';\n",
              "          element.innerHTML = '';\n",
              "          dataTable['output_type'] = 'display_data';\n",
              "          await google.colab.output.renderOutput(dataTable, element);\n",
              "          const docLink = document.createElement('div');\n",
              "          docLink.innerHTML = docLinkHtml;\n",
              "          element.appendChild(docLink);\n",
              "        }\n",
              "      </script>\n",
              "    </div>\n",
              "  </div>\n",
              "  "
            ]
          },
          "metadata": {},
          "execution_count": 30
        }
      ]
    },
    {
      "cell_type": "code",
      "source": [
        "data = raw_dt.copy()\n",
        "data['timestamp'] = pd.to_datetime(data['timestamp'])\n",
        "data.plot(x='timestamp', y='value', figsize=(12, 8))\n",
        "plt.ylabel(\"temperature\")\n",
        "plt.title(\"Original Dataset\");"
      ],
      "metadata": {
        "execution": {
          "iopub.status.busy": "2022-11-04T14:39:53.156023Z",
          "iopub.execute_input": "2022-11-04T14:39:53.156650Z",
          "iopub.status.idle": "2022-11-04T14:39:53.599313Z",
          "shell.execute_reply.started": "2022-11-04T14:39:53.156585Z",
          "shell.execute_reply": "2022-11-04T14:39:53.598396Z"
        },
        "trusted": true,
        "colab": {
          "base_uri": "https://localhost:8080/",
          "height": 684
        },
        "id": "vPJziO4X_M5D",
        "outputId": "e4644e29-c9e1-4310-fe18-7bbb0243600b"
      },
      "execution_count": null,
      "outputs": [
        {
          "output_type": "display_data",
          "data": {
            "text/plain": [
              "<Figure size 1200x800 with 1 Axes>"
            ],
            "image/png": "[encoded data removed]"
          },
          "metadata": {}
        }
      ]
    },
    {
      "cell_type": "markdown",
      "source": [
        "We can already intuitively see a few of unusual values. We will see if our model will be able to pick them up... For reference, the paper that introduced this dataset can be found [here](https://reader.elsevier.com/reader/sd/pii/S0925231217309864?token=C53EC725CFFDDB81C89A60CA5CA9B4DDD0E1DBFC0F8975119E6CB3555C8B2D6AC0418BF5AE7AE721DA3BB77DDD638190) \\[1\\] and its figure 1 shows this timeseries with hand-labeled anomalies. The first anomaly, around Dec 16th, is a planned shutdown. The third anomaly, around Feb 8th, is a catastrophic failure. Around Jan 30th, a harder-to-detect anomaly indicated the onset of the problem that led to anomaly 3."
      ],
      "metadata": {
        "id": "FE1JZhrA_M5D"
      }
    },
    {
      "cell_type": "code",
      "source": [
        "data['timestamp'].min(), data['timestamp'].max()"
      ],
      "metadata": {
        "execution": {
          "iopub.status.busy": "2022-11-04T14:39:53.600775Z",
          "iopub.execute_input": "2022-11-04T14:39:53.601928Z",
          "iopub.status.idle": "2022-11-04T14:39:53.610322Z",
          "shell.execute_reply.started": "2022-11-04T14:39:53.601883Z",
          "shell.execute_reply": "2022-11-04T14:39:53.609254Z"
        },
        "trusted": true,
        "colab": {
          "base_uri": "https://localhost:8080/"
        },
        "id": "iHElrVKz_M5E",
        "outputId": "e23fff45-aa4e-475d-d641-89a5154bbbc0"
      },
      "execution_count": null,
      "outputs": [
        {
          "output_type": "execute_result",
          "data": {
            "text/plain": [
              "(Timestamp('2013-12-02 21:15:00'), Timestamp('2014-02-19 15:25:00'))"
            ]
          },
          "metadata": {},
          "execution_count": 32
        }
      ]
    },
    {
      "cell_type": "markdown",
      "source": [
        "We do not have much information about what kind of machine or industry we are dealing with, which is a bit of an issue when trying to use this data, especially when it comes to feature engineering. We will therefore have to make assumptions. \n",
        "\n",
        "The timestamps cover the Christmas and New Year holidays. Since we are dealing with an industrial machine, it stands to reason that its workload might be affected by holidays, and maybe even by the proximity (in time) of a holiday. In the absence of additional information, we are going to assume that the applicable holidays are those typical in Europe and the Americas, i.e. Christmas and New Year's Day. By the same reasoning, we might need to know the day of the week (possibly lower workload on weekends?) or the hour of the day. Again, we will assume that weekends are Satuday and Sunday. \n",
        "\n",
        "We can easily extract all this information from the timestamp."
      ],
      "metadata": {
        "id": "IkKyeMi5_M5F"
      }
    },
    {
      "cell_type": "code",
      "source": [
        "data['day'] = data['timestamp'].dt.day\n",
        "data['month'] = data['timestamp'].dt.month\n",
        "data['hour_min'] = data['timestamp'].dt.hour + data['timestamp'].dt.minute / 60\n",
        "\n",
        "data['day_of_week'] = data['timestamp'].dt.dayofweek\n",
        "data['holiday'] = 0\n",
        "data.loc[(data['day'] == 25) & (data['month'] == 12),'holiday'] = 1  # Christmas\n",
        "data.loc[(data['day'] == 1) & (data['month'] == 1),'holiday'] = 1  # New Year's Day"
      ],
      "metadata": {
        "execution": {
          "iopub.status.busy": "2022-11-04T14:39:53.615203Z",
          "iopub.execute_input": "2022-11-04T14:39:53.615471Z",
          "iopub.status.idle": "2022-11-04T14:39:53.638673Z",
          "shell.execute_reply.started": "2022-11-04T14:39:53.615447Z",
          "shell.execute_reply": "2022-11-04T14:39:53.637695Z"
        },
        "trusted": true,
        "id": "8u8kJ6wD_M5G"
      },
      "execution_count": null,
      "outputs": []
    },
    {
      "cell_type": "markdown",
      "source": [
        "(Later, we will actually drop `day` and `month` -- we will get back to that)."
      ],
      "metadata": {
        "id": "13eJL6ee_M5G"
      }
    },
    {
      "cell_type": "code",
      "source": [
        "holidays = data.loc[data['holiday'] == 1, 'timestamp'].dt.date.unique()\n",
        "holidays"
      ],
      "metadata": {
        "execution": {
          "iopub.status.busy": "2022-11-04T14:39:53.640038Z",
          "iopub.execute_input": "2022-11-04T14:39:53.640455Z",
          "iopub.status.idle": "2022-11-04T14:39:53.651233Z",
          "shell.execute_reply.started": "2022-11-04T14:39:53.640418Z",
          "shell.execute_reply": "2022-11-04T14:39:53.650267Z"
        },
        "trusted": true,
        "colab": {
          "base_uri": "https://localhost:8080/"
        },
        "id": "Y3R4xJGR_M5H",
        "outputId": "ec9e6b8a-e294-41de-9a8b-65d3bb8edb5f"
      },
      "execution_count": null,
      "outputs": [
        {
          "output_type": "execute_result",
          "data": {
            "text/plain": [
              "array([datetime.date(2013, 12, 25), datetime.date(2014, 1, 1)],\n",
              "      dtype=object)"
            ]
          },
          "metadata": {},
          "execution_count": 34
        }
      ]
    },
    {
      "cell_type": "markdown",
      "source": [
        "We add two temporary columns to compute the distance in days to or from each holiday."
      ],
      "metadata": {
        "id": "sFcqGF8b_M5H"
      }
    },
    {
      "cell_type": "code",
      "source": [
        "for i, hd in enumerate(holidays):\n",
        "    data['hol_' + str(i)] = data['timestamp'].dt.date - hd"
      ],
      "metadata": {
        "execution": {
          "iopub.status.busy": "2022-11-04T14:39:53.652418Z",
          "iopub.execute_input": "2022-11-04T14:39:53.653356Z",
          "iopub.status.idle": "2022-11-04T14:39:53.744548Z",
          "shell.execute_reply.started": "2022-11-04T14:39:53.653328Z",
          "shell.execute_reply": "2022-11-04T14:39:53.743591Z"
        },
        "trusted": true,
        "id": "6t6wQxph_M5I"
      },
      "execution_count": null,
      "outputs": []
    },
    {
      "cell_type": "markdown",
      "source": [
        "We are interested by the proximity to or from any holiday, so we want only the shortest gap:"
      ],
      "metadata": {
        "id": "gFlVEyCx_M5I"
      }
    },
    {
      "cell_type": "code",
      "source": [
        "for i in range(data.shape[0]):\n",
        "    if np.abs(data.loc[data.index[i], 'hol_0']) <= np.abs(data.loc[data.index[i], 'hol_1']):\n",
        "        data.loc[data.index[i], 'gap_holiday'] = data.loc[data.index[i], 'hol_0']\n",
        "    else:\n",
        "        data.loc[data.index[i], 'gap_holiday'] = data.loc[data.index[i], 'hol_1']"
      ],
      "metadata": {
        "execution": {
          "iopub.status.busy": "2022-11-04T14:39:53.746139Z",
          "iopub.execute_input": "2022-11-04T14:39:53.746516Z",
          "iopub.status.idle": "2022-11-04T14:40:05.487682Z",
          "shell.execute_reply.started": "2022-11-04T14:39:53.746478Z",
          "shell.execute_reply": "2022-11-04T14:40:05.486726Z"
        },
        "trusted": true,
        "id": "1l5FgoRB_M5I"
      },
      "execution_count": null,
      "outputs": []
    },
    {
      "cell_type": "code",
      "source": [
        "data['gap_holiday'] = data['gap_holiday'].astype('timedelta64[D]')"
      ],
      "metadata": {
        "execution": {
          "iopub.status.busy": "2022-11-04T14:40:05.489270Z",
          "iopub.execute_input": "2022-11-04T14:40:05.489689Z",
          "iopub.status.idle": "2022-11-04T14:40:05.497378Z",
          "shell.execute_reply.started": "2022-11-04T14:40:05.489649Z",
          "shell.execute_reply": "2022-11-04T14:40:05.496540Z"
        },
        "trusted": true,
        "id": "mlMBAvyL_M5J"
      },
      "execution_count": null,
      "outputs": []
    },
    {
      "cell_type": "markdown",
      "source": [
        "We no longer need the temporary columns:"
      ],
      "metadata": {
        "id": "qv3dMdFB_M5J"
      }
    },
    {
      "cell_type": "code",
      "source": [
        "data.drop(['hol_0', 'hol_1'], axis=1, inplace=True)"
      ],
      "metadata": {
        "execution": {
          "iopub.status.busy": "2022-11-04T14:40:05.498707Z",
          "iopub.execute_input": "2022-11-04T14:40:05.499449Z",
          "iopub.status.idle": "2022-11-04T14:40:05.516021Z",
          "shell.execute_reply.started": "2022-11-04T14:40:05.499407Z",
          "shell.execute_reply": "2022-11-04T14:40:05.514769Z"
        },
        "trusted": true,
        "id": "BU5qt4e__M5J"
      },
      "execution_count": null,
      "outputs": []
    },
    {
      "cell_type": "markdown",
      "source": [
        "Finally, we convert the timestamp into something easier to plot."
      ],
      "metadata": {
        "id": "g80-x1OO_M5K"
      }
    },
    {
      "cell_type": "code",
      "source": [
        "data['t'] = (data['timestamp'].astype(np.int64)/1e11).astype(np.int64)\n",
        "data.drop('timestamp', axis=1, inplace=True)\n",
        "data"
      ],
      "metadata": {
        "execution": {
          "iopub.status.busy": "2022-11-04T14:40:05.517511Z",
          "iopub.execute_input": "2022-11-04T14:40:05.518047Z",
          "iopub.status.idle": "2022-11-04T14:40:05.589193Z",
          "shell.execute_reply.started": "2022-11-04T14:40:05.518005Z",
          "shell.execute_reply": "2022-11-04T14:40:05.588154Z"
        },
        "trusted": true,
        "colab": {
          "base_uri": "https://localhost:8080/",
          "height": 424
        },
        "id": "mji3Cl9D_M5K",
        "outputId": "6e483366-be10-46ee-be99-a0445a6ba3a9"
      },
      "execution_count": null,
      "outputs": [
        {
          "output_type": "execute_result",
          "data": {
            "text/plain": [
              "           value  day  month   hour_min  day_of_week  holiday  gap_holiday  \\\n",
              "0      73.967322    2     12  21.250000            0        0        -23.0   \n",
              "1      74.935882    2     12  21.333333            0        0        -23.0   \n",
              "2      76.124162    2     12  21.416667            0        0        -23.0   \n",
              "3      78.140707    2     12  21.500000            0        0        -23.0   \n",
              "4      79.329836    2     12  21.583333            0        0        -23.0   \n",
              "...          ...  ...    ...        ...          ...      ...          ...   \n",
              "22690  98.185415   19      2  15.083333            2        0         49.0   \n",
              "22691  97.804168   19      2  15.166667            2        0         49.0   \n",
              "22692  97.135468   19      2  15.250000            2        0         49.0   \n",
              "22693  98.056852   19      2  15.333333            2        0         49.0   \n",
              "22694  96.903861   19      2  15.416667            2        0         49.0   \n",
              "\n",
              "              t  \n",
              "0      13860189  \n",
              "1      13860192  \n",
              "2      13860195  \n",
              "3      13860198  \n",
              "4      13860201  \n",
              "...         ...  \n",
              "22690  13928223  \n",
              "22691  13928226  \n",
              "22692  13928229  \n",
              "22693  13928232  \n",
              "22694  13928235  \n",
              "\n",
              "[22695 rows x 8 columns]"
            ],
            "text/html": [
              "\n",
              "  <div id=\"df-25bef01c-3afa-427d-b821-7bd57aaa44b6\">\n",
              "    <div class=\"colab-df-container\">\n",
              "      <div>\n",
              "<style scoped>\n",
              "    .dataframe tbody tr th:only-of-type {\n",
              "        vertical-align: middle;\n",
              "    }\n",
              "\n",
              "    .dataframe tbody tr th {\n",
              "        vertical-align: top;\n",
              "    }\n",
              "\n",
              "    .dataframe thead th {\n",
              "        text-align: right;\n",
              "    }\n",
              "</style>\n",
              "<table border=\"1\" class=\"dataframe\">\n",
              "  <thead>\n",
              "    <tr style=\"text-align: right;\">\n",
              "      <th></th>\n",
              "      <th>value</th>\n",
              "      <th>day</th>\n",
              "      <th>month</th>\n",
              "      <th>hour_min</th>\n",
              "      <th>day_of_week</th>\n",
              "      <th>holiday</th>\n",
              "      <th>gap_holiday</th>\n",
              "      <th>t</th>\n",
              "    </tr>\n",
              "  </thead>\n",
              "  <tbody>\n",
              "    <tr>\n",
              "      <th>0</th>\n",
              "      <td>73.967322</td>\n",
              "      <td>2</td>\n",
              "      <td>12</td>\n",
              "      <td>21.250000</td>\n",
              "      <td>0</td>\n",
              "      <td>0</td>\n",
              "      <td>-23.0</td>\n",
              "      <td>13860189</td>\n",
              "    </tr>\n",
              "    <tr>\n",
              "      <th>1</th>\n",
              "      <td>74.935882</td>\n",
              "      <td>2</td>\n",
              "      <td>12</td>\n",
              "      <td>21.333333</td>\n",
              "      <td>0</td>\n",
              "      <td>0</td>\n",
              "      <td>-23.0</td>\n",
              "      <td>13860192</td>\n",
              "    </tr>\n",
              "    <tr>\n",
              "      <th>2</th>\n",
              "      <td>76.124162</td>\n",
              "      <td>2</td>\n",
              "      <td>12</td>\n",
              "      <td>21.416667</td>\n",
              "      <td>0</td>\n",
              "      <td>0</td>\n",
              "      <td>-23.0</td>\n",
              "      <td>13860195</td>\n",
              "    </tr>\n",
              "    <tr>\n",
              "      <th>3</th>\n",
              "      <td>78.140707</td>\n",
              "      <td>2</td>\n",
              "      <td>12</td>\n",
              "      <td>21.500000</td>\n",
              "      <td>0</td>\n",
              "      <td>0</td>\n",
              "      <td>-23.0</td>\n",
              "      <td>13860198</td>\n",
              "    </tr>\n",
              "    <tr>\n",
              "      <th>4</th>\n",
              "      <td>79.329836</td>\n",
              "      <td>2</td>\n",
              "      <td>12</td>\n",
              "      <td>21.583333</td>\n",
              "      <td>0</td>\n",
              "      <td>0</td>\n",
              "      <td>-23.0</td>\n",
              "      <td>13860201</td>\n",
              "    </tr>\n",
              "    <tr>\n",
              "      <th>...</th>\n",
              "      <td>...</td>\n",
              "      <td>...</td>\n",
              "      <td>...</td>\n",
              "      <td>...</td>\n",
              "      <td>...</td>\n",
              "      <td>...</td>\n",
              "      <td>...</td>\n",
              "      <td>...</td>\n",
              "    </tr>\n",
              "    <tr>\n",
              "      <th>22690</th>\n",
              "      <td>98.185415</td>\n",
              "      <td>19</td>\n",
              "      <td>2</td>\n",
              "      <td>15.083333</td>\n",
              "      <td>2</td>\n",
              "      <td>0</td>\n",
              "      <td>49.0</td>\n",
              "      <td>13928223</td>\n",
              "    </tr>\n",
              "    <tr>\n",
              "      <th>22691</th>\n",
              "      <td>97.804168</td>\n",
              "      <td>19</td>\n",
              "      <td>2</td>\n",
              "      <td>15.166667</td>\n",
              "      <td>2</td>\n",
              "      <td>0</td>\n",
              "      <td>49.0</td>\n",
              "      <td>13928226</td>\n",
              "    </tr>\n",
              "    <tr>\n",
              "      <th>22692</th>\n",
              "      <td>97.135468</td>\n",
              "      <td>19</td>\n",
              "      <td>2</td>\n",
              "      <td>15.250000</td>\n",
              "      <td>2</td>\n",
              "      <td>0</td>\n",
              "      <td>49.0</td>\n",
              "      <td>13928229</td>\n",
              "    </tr>\n",
              "    <tr>\n",
              "      <th>22693</th>\n",
              "      <td>98.056852</td>\n",
              "      <td>19</td>\n",
              "      <td>2</td>\n",
              "      <td>15.333333</td>\n",
              "      <td>2</td>\n",
              "      <td>0</td>\n",
              "      <td>49.0</td>\n",
              "      <td>13928232</td>\n",
              "    </tr>\n",
              "    <tr>\n",
              "      <th>22694</th>\n",
              "      <td>96.903861</td>\n",
              "      <td>19</td>\n",
              "      <td>2</td>\n",
              "      <td>15.416667</td>\n",
              "      <td>2</td>\n",
              "      <td>0</td>\n",
              "      <td>49.0</td>\n",
              "      <td>13928235</td>\n",
              "    </tr>\n",
              "  </tbody>\n",
              "</table>\n",
              "<p>22695 rows × 8 columns</p>\n",
              "</div>\n",
              "      <button class=\"colab-df-convert\" onclick=\"convertToInteractive('df-25bef01c-3afa-427d-b821-7bd57aaa44b6')\"\n",
              "              title=\"Convert this dataframe to an interactive table.\"\n",
              "              style=\"display:none;\">\n",
              "        \n",
              "  <svg xmlns=\"http://www.w3.org/2000/svg\" height=\"24px\"viewBox=\"0 0 24 24\"\n",
              "       width=\"24px\">\n",
              "    <path d=\"M0 0h24v24H0V0z\" fill=\"none\"/>\n",
              "    <path d=\"M18.56 5.44l.94 2.06.94-2.06 2.06-.94-2.06-.94-.94-2.06-.94 2.06-2.06.94zm-11 1L8.5 8.5l.94-2.06 2.06-.94-2.06-.94L8.5 2.5l-.94 2.06-2.06.94zm10 10l.94 2.06.94-2.06 2.06-.94-2.06-.94-.94-2.06-.94 2.06-2.06.94z\"/><path d=\"M17.41 7.96l-1.37-1.37c-.4-.4-.92-.59-1.43-.59-.52 0-1.04.2-1.43.59L10.3 9.45l-7.72 7.72c-.78.78-.78 2.05 0 2.83L4 21.41c.39.39.9.59 1.41.59.51 0 1.02-.2 1.41-.59l7.78-7.78 2.81-2.81c.8-.78.8-2.07 0-2.86zM5.41 20L4 18.59l7.72-7.72 1.47 1.35L5.41 20z\"/>\n",
              "  </svg>\n",
              "      </button>\n",
              "      \n",
              "  <style>\n",
              "    .colab-df-container {\n",
              "      display:flex;\n",
              "      flex-wrap:wrap;\n",
              "      gap: 12px;\n",
              "    }\n",
              "\n",
              "    .colab-df-convert {\n",
              "      background-color: #E8F0FE;\n",
              "      border: none;\n",
              "      border-radius: 50%;\n",
              "      cursor: pointer;\n",
              "      display: none;\n",
              "      fill: #1967D2;\n",
              "      height: 32px;\n",
              "      padding: 0 0 0 0;\n",
              "      width: 32px;\n",
              "    }\n",
              "\n",
              "    .colab-df-convert:hover {\n",
              "      background-color: #E2EBFA;\n",
              "      box-shadow: 0px 1px 2px rgba(60, 64, 67, 0.3), 0px 1px 3px 1px rgba(60, 64, 67, 0.15);\n",
              "      fill: #174EA6;\n",
              "    }\n",
              "\n",
              "    [theme=dark] .colab-df-convert {\n",
              "      background-color: #3B4455;\n",
              "      fill: #D2E3FC;\n",
              "    }\n",
              "\n",
              "    [theme=dark] .colab-df-convert:hover {\n",
              "      background-color: #434B5C;\n",
              "      box-shadow: 0px 1px 3px 1px rgba(0, 0, 0, 0.15);\n",
              "      filter: drop-shadow(0px 1px 2px rgba(0, 0, 0, 0.3));\n",
              "      fill: #FFFFFF;\n",
              "    }\n",
              "  </style>\n",
              "\n",
              "      <script>\n",
              "        const buttonEl =\n",
              "          document.querySelector('#df-25bef01c-3afa-427d-b821-7bd57aaa44b6 button.colab-df-convert');\n",
              "        buttonEl.style.display =\n",
              "          google.colab.kernel.accessAllowed ? 'block' : 'none';\n",
              "\n",
              "        async function convertToInteractive(key) {\n",
              "          const element = document.querySelector('#df-25bef01c-3afa-427d-b821-7bd57aaa44b6');\n",
              "          const dataTable =\n",
              "            await google.colab.kernel.invokeFunction('convertToInteractive',\n",
              "                                                     [key], {});\n",
              "          if (!dataTable) return;\n",
              "\n",
              "          const docLinkHtml = 'Like what you see? Visit the ' +\n",
              "            '<a target=\"_blank\" href=https://colab.research.google.com/notebooks/data_table.ipynb>data table notebook</a>'\n",
              "            + ' to learn more about interactive tables.';\n",
              "          element.innerHTML = '';\n",
              "          dataTable['output_type'] = 'display_data';\n",
              "          await google.colab.output.renderOutput(dataTable, element);\n",
              "          const docLink = document.createElement('div');\n",
              "          docLink.innerHTML = docLinkHtml;\n",
              "          element.appendChild(docLink);\n",
              "        }\n",
              "      </script>\n",
              "    </div>\n",
              "  </div>\n",
              "  "
            ]
          },
          "metadata": {},
          "execution_count": 39
        }
      ]
    },
    {
      "cell_type": "code",
      "source": [
        "cont_vars = ['value', 'hour_min', 'gap_holiday', 't']\n",
        "cat_vars = ['day', 'month', 'day_of_week', 'holiday']"
      ],
      "metadata": {
        "execution": {
          "iopub.status.busy": "2022-11-04T14:40:05.590643Z",
          "iopub.execute_input": "2022-11-04T14:40:05.591878Z",
          "iopub.status.idle": "2022-11-04T14:40:05.596831Z",
          "shell.execute_reply.started": "2022-11-04T14:40:05.591838Z",
          "shell.execute_reply": "2022-11-04T14:40:05.595663Z"
        },
        "trusted": true,
        "id": "TIJ5b1ct_M5K"
      },
      "execution_count": null,
      "outputs": []
    },
    {
      "cell_type": "markdown",
      "source": [
        "We now apply a Label Encoder to encode the categorical data from 0 to n, with n being the number of classes for the variable."
      ],
      "metadata": {
        "id": "Qh7lc5Bn_M5L"
      }
    },
    {
      "cell_type": "code",
      "source": [
        "from sklearn.preprocessing import LabelEncoder\n",
        "\n",
        "label_encoders = [LabelEncoder() for _ in cat_vars] \n",
        "for col, enc in zip(cat_vars, label_encoders):\n",
        "    data[col] = enc.fit_transform(data[col])\n",
        "    \n",
        "data"
      ],
      "metadata": {
        "execution": {
          "iopub.status.busy": "2022-11-04T14:40:05.598246Z",
          "iopub.execute_input": "2022-11-04T14:40:05.599890Z",
          "iopub.status.idle": "2022-11-04T14:40:05.625410Z",
          "shell.execute_reply.started": "2022-11-04T14:40:05.599859Z",
          "shell.execute_reply": "2022-11-04T14:40:05.624582Z"
        },
        "trusted": true,
        "colab": {
          "base_uri": "https://localhost:8080/",
          "height": 424
        },
        "id": "wavDNqr1_M5L",
        "outputId": "e0b7ee3f-3668-4e5b-99ed-bb3504aed2a1"
      },
      "execution_count": null,
      "outputs": [
        {
          "output_type": "execute_result",
          "data": {
            "text/plain": [
              "           value  day  month   hour_min  day_of_week  holiday  gap_holiday  \\\n",
              "0      73.967322    1      2  21.250000            0        0        -23.0   \n",
              "1      74.935882    1      2  21.333333            0        0        -23.0   \n",
              "2      76.124162    1      2  21.416667            0        0        -23.0   \n",
              "3      78.140707    1      2  21.500000            0        0        -23.0   \n",
              "4      79.329836    1      2  21.583333            0        0        -23.0   \n",
              "...          ...  ...    ...        ...          ...      ...          ...   \n",
              "22690  98.185415   18      1  15.083333            2        0         49.0   \n",
              "22691  97.804168   18      1  15.166667            2        0         49.0   \n",
              "22692  97.135468   18      1  15.250000            2        0         49.0   \n",
              "22693  98.056852   18      1  15.333333            2        0         49.0   \n",
              "22694  96.903861   18      1  15.416667            2        0         49.0   \n",
              "\n",
              "              t  \n",
              "0      13860189  \n",
              "1      13860192  \n",
              "2      13860195  \n",
              "3      13860198  \n",
              "4      13860201  \n",
              "...         ...  \n",
              "22690  13928223  \n",
              "22691  13928226  \n",
              "22692  13928229  \n",
              "22693  13928232  \n",
              "22694  13928235  \n",
              "\n",
              "[22695 rows x 8 columns]"
            ],
            "text/html": [
              "\n",
              "  <div id=\"df-ec633606-51d5-4126-8255-c0f2f665de97\">\n",
              "    <div class=\"colab-df-container\">\n",
              "      <div>\n",
              "<style scoped>\n",
              "    .dataframe tbody tr th:only-of-type {\n",
              "        vertical-align: middle;\n",
              "    }\n",
              "\n",
              "    .dataframe tbody tr th {\n",
              "        vertical-align: top;\n",
              "    }\n",
              "\n",
              "    .dataframe thead th {\n",
              "        text-align: right;\n",
              "    }\n",
              "</style>\n",
              "<table border=\"1\" class=\"dataframe\">\n",
              "  <thead>\n",
              "    <tr style=\"text-align: right;\">\n",
              "      <th></th>\n",
              "      <th>value</th>\n",
              "      <th>day</th>\n",
              "      <th>month</th>\n",
              "      <th>hour_min</th>\n",
              "      <th>day_of_week</th>\n",
              "      <th>holiday</th>\n",
              "      <th>gap_holiday</th>\n",
              "      <th>t</th>\n",
              "    </tr>\n",
              "  </thead>\n",
              "  <tbody>\n",
              "    <tr>\n",
              "      <th>0</th>\n",
              "      <td>73.967322</td>\n",
              "      <td>1</td>\n",
              "      <td>2</td>\n",
              "      <td>21.250000</td>\n",
              "      <td>0</td>\n",
              "      <td>0</td>\n",
              "      <td>-23.0</td>\n",
              "      <td>13860189</td>\n",
              "    </tr>\n",
              "    <tr>\n",
              "      <th>1</th>\n",
              "      <td>74.935882</td>\n",
              "      <td>1</td>\n",
              "      <td>2</td>\n",
              "      <td>21.333333</td>\n",
              "      <td>0</td>\n",
              "      <td>0</td>\n",
              "      <td>-23.0</td>\n",
              "      <td>13860192</td>\n",
              "    </tr>\n",
              "    <tr>\n",
              "      <th>2</th>\n",
              "      <td>76.124162</td>\n",
              "      <td>1</td>\n",
              "      <td>2</td>\n",
              "      <td>21.416667</td>\n",
              "      <td>0</td>\n",
              "      <td>0</td>\n",
              "      <td>-23.0</td>\n",
              "      <td>13860195</td>\n",
              "    </tr>\n",
              "    <tr>\n",
              "      <th>3</th>\n",
              "      <td>78.140707</td>\n",
              "      <td>1</td>\n",
              "      <td>2</td>\n",
              "      <td>21.500000</td>\n",
              "      <td>0</td>\n",
              "      <td>0</td>\n",
              "      <td>-23.0</td>\n",
              "      <td>13860198</td>\n",
              "    </tr>\n",
              "    <tr>\n",
              "      <th>4</th>\n",
              "      <td>79.329836</td>\n",
              "      <td>1</td>\n",
              "      <td>2</td>\n",
              "      <td>21.583333</td>\n",
              "      <td>0</td>\n",
              "      <td>0</td>\n",
              "      <td>-23.0</td>\n",
              "      <td>13860201</td>\n",
              "    </tr>\n",
              "    <tr>\n",
              "      <th>...</th>\n",
              "      <td>...</td>\n",
              "      <td>...</td>\n",
              "      <td>...</td>\n",
              "      <td>...</td>\n",
              "      <td>...</td>\n",
              "      <td>...</td>\n",
              "      <td>...</td>\n",
              "      <td>...</td>\n",
              "    </tr>\n",
              "    <tr>\n",
              "      <th>22690</th>\n",
              "      <td>98.185415</td>\n",
              "      <td>18</td>\n",
              "      <td>1</td>\n",
              "      <td>15.083333</td>\n",
              "      <td>2</td>\n",
              "      <td>0</td>\n",
              "      <td>49.0</td>\n",
              "      <td>13928223</td>\n",
              "    </tr>\n",
              "    <tr>\n",
              "      <th>22691</th>\n",
              "      <td>97.804168</td>\n",
              "      <td>18</td>\n",
              "      <td>1</td>\n",
              "      <td>15.166667</td>\n",
              "      <td>2</td>\n",
              "      <td>0</td>\n",
              "      <td>49.0</td>\n",
              "      <td>13928226</td>\n",
              "    </tr>\n",
              "    <tr>\n",
              "      <th>22692</th>\n",
              "      <td>97.135468</td>\n",
              "      <td>18</td>\n",
              "      <td>1</td>\n",
              "      <td>15.250000</td>\n",
              "      <td>2</td>\n",
              "      <td>0</td>\n",
              "      <td>49.0</td>\n",
              "      <td>13928229</td>\n",
              "    </tr>\n",
              "    <tr>\n",
              "      <th>22693</th>\n",
              "      <td>98.056852</td>\n",
              "      <td>18</td>\n",
              "      <td>1</td>\n",
              "      <td>15.333333</td>\n",
              "      <td>2</td>\n",
              "      <td>0</td>\n",
              "      <td>49.0</td>\n",
              "      <td>13928232</td>\n",
              "    </tr>\n",
              "    <tr>\n",
              "      <th>22694</th>\n",
              "      <td>96.903861</td>\n",
              "      <td>18</td>\n",
              "      <td>1</td>\n",
              "      <td>15.416667</td>\n",
              "      <td>2</td>\n",
              "      <td>0</td>\n",
              "      <td>49.0</td>\n",
              "      <td>13928235</td>\n",
              "    </tr>\n",
              "  </tbody>\n",
              "</table>\n",
              "<p>22695 rows × 8 columns</p>\n",
              "</div>\n",
              "      <button class=\"colab-df-convert\" onclick=\"convertToInteractive('df-ec633606-51d5-4126-8255-c0f2f665de97')\"\n",
              "              title=\"Convert this dataframe to an interactive table.\"\n",
              "              style=\"display:none;\">\n",
              "        \n",
              "  <svg xmlns=\"http://www.w3.org/2000/svg\" height=\"24px\"viewBox=\"0 0 24 24\"\n",
              "       width=\"24px\">\n",
              "    <path d=\"M0 0h24v24H0V0z\" fill=\"none\"/>\n",
              "    <path d=\"M18.56 5.44l.94 2.06.94-2.06 2.06-.94-2.06-.94-.94-2.06-.94 2.06-2.06.94zm-11 1L8.5 8.5l.94-2.06 2.06-.94-2.06-.94L8.5 2.5l-.94 2.06-2.06.94zm10 10l.94 2.06.94-2.06 2.06-.94-2.06-.94-.94-2.06-.94 2.06-2.06.94z\"/><path d=\"M17.41 7.96l-1.37-1.37c-.4-.4-.92-.59-1.43-.59-.52 0-1.04.2-1.43.59L10.3 9.45l-7.72 7.72c-.78.78-.78 2.05 0 2.83L4 21.41c.39.39.9.59 1.41.59.51 0 1.02-.2 1.41-.59l7.78-7.78 2.81-2.81c.8-.78.8-2.07 0-2.86zM5.41 20L4 18.59l7.72-7.72 1.47 1.35L5.41 20z\"/>\n",
              "  </svg>\n",
              "      </button>\n",
              "      \n",
              "  <style>\n",
              "    .colab-df-container {\n",
              "      display:flex;\n",
              "      flex-wrap:wrap;\n",
              "      gap: 12px;\n",
              "    }\n",
              "\n",
              "    .colab-df-convert {\n",
              "      background-color: #E8F0FE;\n",
              "      border: none;\n",
              "      border-radius: 50%;\n",
              "      cursor: pointer;\n",
              "      display: none;\n",
              "      fill: #1967D2;\n",
              "      height: 32px;\n",
              "      padding: 0 0 0 0;\n",
              "      width: 32px;\n",
              "    }\n",
              "\n",
              "    .colab-df-convert:hover {\n",
              "      background-color: #E2EBFA;\n",
              "      box-shadow: 0px 1px 2px rgba(60, 64, 67, 0.3), 0px 1px 3px 1px rgba(60, 64, 67, 0.15);\n",
              "      fill: #174EA6;\n",
              "    }\n",
              "\n",
              "    [theme=dark] .colab-df-convert {\n",
              "      background-color: #3B4455;\n",
              "      fill: #D2E3FC;\n",
              "    }\n",
              "\n",
              "    [theme=dark] .colab-df-convert:hover {\n",
              "      background-color: #434B5C;\n",
              "      box-shadow: 0px 1px 3px 1px rgba(0, 0, 0, 0.15);\n",
              "      filter: drop-shadow(0px 1px 2px rgba(0, 0, 0, 0.3));\n",
              "      fill: #FFFFFF;\n",
              "    }\n",
              "  </style>\n",
              "\n",
              "      <script>\n",
              "        const buttonEl =\n",
              "          document.querySelector('#df-ec633606-51d5-4126-8255-c0f2f665de97 button.colab-df-convert');\n",
              "        buttonEl.style.display =\n",
              "          google.colab.kernel.accessAllowed ? 'block' : 'none';\n",
              "\n",
              "        async function convertToInteractive(key) {\n",
              "          const element = document.querySelector('#df-ec633606-51d5-4126-8255-c0f2f665de97');\n",
              "          const dataTable =\n",
              "            await google.colab.kernel.invokeFunction('convertToInteractive',\n",
              "                                                     [key], {});\n",
              "          if (!dataTable) return;\n",
              "\n",
              "          const docLinkHtml = 'Like what you see? Visit the ' +\n",
              "            '<a target=\"_blank\" href=https://colab.research.google.com/notebooks/data_table.ipynb>data table notebook</a>'\n",
              "            + ' to learn more about interactive tables.';\n",
              "          element.innerHTML = '';\n",
              "          dataTable['output_type'] = 'display_data';\n",
              "          await google.colab.output.renderOutput(dataTable, element);\n",
              "          const docLink = document.createElement('div');\n",
              "          docLink.innerHTML = docLinkHtml;\n",
              "          element.appendChild(docLink);\n",
              "        }\n",
              "      </script>\n",
              "    </div>\n",
              "  </div>\n",
              "  "
            ]
          },
          "metadata": {},
          "execution_count": 41
        }
      ]
    },
    {
      "cell_type": "markdown",
      "source": [
        "Notice that some of our data are continuous (or 'close to' continuous): `value`, `hour_min`, `gap_holiday` (even though this one only has a resolution of 1 day), `t`. Other variables are categorical: `day`, `month`, `day_week`, `holiday`. In a neural network model, these two types of data need to be handled differently, as we will see later."
      ],
      "metadata": {
        "id": "EWXDwSct_M5M"
      }
    },
    {
      "cell_type": "markdown",
      "source": [
        "It is time to split our data into a train set and a test set. Let's set 30% of the data aside. Since this is a time series, we take the last 30% of the observations (in chronological order) as our test set."
      ],
      "metadata": {
        "id": "c-lNkIOD_M5M"
      }
    },
    {
      "cell_type": "code",
      "source": [
        "test_ratio = 0.3"
      ],
      "metadata": {
        "execution": {
          "iopub.status.busy": "2022-11-04T14:40:05.626761Z",
          "iopub.execute_input": "2022-11-04T14:40:05.627076Z",
          "iopub.status.idle": "2022-11-04T14:40:05.631486Z",
          "shell.execute_reply.started": "2022-11-04T14:40:05.627043Z",
          "shell.execute_reply": "2022-11-04T14:40:05.630491Z"
        },
        "trusted": true,
        "id": "cC82A28e_M5N"
      },
      "execution_count": null,
      "outputs": []
    },
    {
      "cell_type": "code",
      "source": [
        "tr_data = data.iloc[: int(len(data) * (1 - test_ratio))]\n",
        "tst_data = data.iloc[int(len(data) * (1 - test_ratio)) :]"
      ],
      "metadata": {
        "execution": {
          "iopub.status.busy": "2022-11-04T14:40:05.643116Z",
          "iopub.execute_input": "2022-11-04T14:40:05.643720Z",
          "iopub.status.idle": "2022-11-04T14:40:05.652742Z",
          "shell.execute_reply.started": "2022-11-04T14:40:05.643678Z",
          "shell.execute_reply": "2022-11-04T14:40:05.651714Z"
        },
        "trusted": true,
        "id": "PQxQR4Td_M5N"
      },
      "execution_count": null,
      "outputs": []
    },
    {
      "cell_type": "markdown",
      "source": [
        "As we are using a neural network model, the continuous variables need to be normalised. This is important because the weights of a neural network are initialised at random from a common distribution, so all tend to have similar scales initially. Variables whose values spread are across different orders of magnitude would therefore cause serious difficulties when it comes to learning the optimal weights."
      ],
      "metadata": {
        "id": "-ewY4m_V_M5O"
      }
    },
    {
      "cell_type": "code",
      "source": [
        "scaler = preprocessing.StandardScaler().fit(tr_data[cont_vars])"
      ],
      "metadata": {
        "execution": {
          "iopub.status.busy": "2022-11-04T14:40:05.654338Z",
          "iopub.execute_input": "2022-11-04T14:40:05.654964Z",
          "iopub.status.idle": "2022-11-04T14:40:05.666874Z",
          "shell.execute_reply.started": "2022-11-04T14:40:05.654928Z",
          "shell.execute_reply": "2022-11-04T14:40:05.665959Z"
        },
        "trusted": true,
        "id": "1gC_kdoz_M5O"
      },
      "execution_count": null,
      "outputs": []
    },
    {
      "cell_type": "code",
      "source": [
        "tr_data_scaled = tr_data.copy()\n",
        "tr_data_scaled[cont_vars] = scaler.transform(tr_data[cont_vars])\n",
        "tst_data_scaled = tst_data.copy()\n",
        "tst_data_scaled[cont_vars] = scaler.transform(tst_data[cont_vars])"
      ],
      "metadata": {
        "execution": {
          "iopub.status.busy": "2022-11-04T14:40:05.668407Z",
          "iopub.execute_input": "2022-11-04T14:40:05.668970Z",
          "iopub.status.idle": "2022-11-04T14:40:05.683714Z",
          "shell.execute_reply.started": "2022-11-04T14:40:05.668934Z",
          "shell.execute_reply": "2022-11-04T14:40:05.682887Z"
        },
        "trusted": true,
        "id": "WqGHOjvV_M5P"
      },
      "execution_count": null,
      "outputs": []
    },
    {
      "cell_type": "markdown",
      "source": [
        "Note that the test data is normalised using parameters observed on the train set. Otherwise, we would be cheating!"
      ],
      "metadata": {
        "id": "MHhccTV6_M5P"
      }
    },
    {
      "cell_type": "markdown",
      "source": [
        "We also need to make sure that there are no values of categorical variables that are present in the test set and not in the training set. But obviously, if we split the data choronologically, there is a strong risk that this happens with the variables `day` and `month`. There are ways to address that through further feature engineering, but here we will simply ignore these two features when we call the dataset in the model definition (see later)."
      ],
      "metadata": {
        "id": "LcUK3sva_M5P"
      }
    },
    {
      "cell_type": "code",
      "source": [
        "tr_data_scaled"
      ],
      "metadata": {
        "execution": {
          "iopub.status.busy": "2022-11-04T14:40:05.685102Z",
          "iopub.execute_input": "2022-11-04T14:40:05.685439Z",
          "iopub.status.idle": "2022-11-04T14:40:05.702209Z",
          "shell.execute_reply.started": "2022-11-04T14:40:05.685407Z",
          "shell.execute_reply": "2022-11-04T14:40:05.701010Z"
        },
        "trusted": true,
        "colab": {
          "base_uri": "https://localhost:8080/",
          "height": 424
        },
        "id": "K5yV3h5O_M5Q",
        "outputId": "0e15f3b5-6670-4ca2-aa42-5d3c99c37ad2"
      },
      "execution_count": null,
      "outputs": [
        {
          "output_type": "execute_result",
          "data": {
            "text/plain": [
              "          value  day  month  hour_min  day_of_week  holiday  gap_holiday  \\\n",
              "0     -1.224398    1      2  1.336685            0        0    -1.866199   \n",
              "1     -1.134136    1      2  1.348691            0        0    -1.866199   \n",
              "2     -1.023399    1      2  1.360698            0        0    -1.866199   \n",
              "3     -0.835474    1      2  1.372704            0        0    -1.866199   \n",
              "4     -0.724658    1      2  1.384711            0        0    -1.866199   \n",
              "...         ...  ...    ...       ...          ...      ...          ...   \n",
              "15881  0.127174   25      0  1.684873            6        0     1.825637   \n",
              "15882  0.120220   25      0  1.696879            6        0     1.825637   \n",
              "15883  0.140016   25      0  1.708885            6        0     1.825637   \n",
              "15884  0.060621   25      0  1.720892            6        0     1.825637   \n",
              "15885  0.105349   26      0 -1.724967            0        0     1.902550   \n",
              "\n",
              "              t  \n",
              "0     -1.732808  \n",
              "1     -1.732590  \n",
              "2     -1.732372  \n",
              "3     -1.732153  \n",
              "4     -1.731935  \n",
              "...         ...  \n",
              "15881  1.731208  \n",
              "15882  1.731426  \n",
              "15883  1.731644  \n",
              "15884  1.731863  \n",
              "15885  1.732081  \n",
              "\n",
              "[15886 rows x 8 columns]"
            ],
            "text/html": [
              "\n",
              "  <div id=\"df-049852ed-40d2-4619-8ec1-9e09fb95de7b\">\n",
              "    <div class=\"colab-df-container\">\n",
              "      <div>\n",
              "<style scoped>\n",
              "    .dataframe tbody tr th:only-of-type {\n",
              "        vertical-align: middle;\n",
              "    }\n",
              "\n",
              "    .dataframe tbody tr th {\n",
              "        vertical-align: top;\n",
              "    }\n",
              "\n",
              "    .dataframe thead th {\n",
              "        text-align: right;\n",
              "    }\n",
              "</style>\n",
              "<table border=\"1\" class=\"dataframe\">\n",
              "  <thead>\n",
              "    <tr style=\"text-align: right;\">\n",
              "      <th></th>\n",
              "      <th>value</th>\n",
              "      <th>day</th>\n",
              "      <th>month</th>\n",
              "      <th>hour_min</th>\n",
              "      <th>day_of_week</th>\n",
              "      <th>holiday</th>\n",
              "      <th>gap_holiday</th>\n",
              "      <th>t</th>\n",
              "    </tr>\n",
              "  </thead>\n",
              "  <tbody>\n",
              "    <tr>\n",
              "      <th>0</th>\n",
              "      <td>-1.224398</td>\n",
              "      <td>1</td>\n",
              "      <td>2</td>\n",
              "      <td>1.336685</td>\n",
              "      <td>0</td>\n",
              "      <td>0</td>\n",
              "      <td>-1.866199</td>\n",
              "      <td>-1.732808</td>\n",
              "    </tr>\n",
              "    <tr>\n",
              "      <th>1</th>\n",
              "      <td>-1.134136</td>\n",
              "      <td>1</td>\n",
              "      <td>2</td>\n",
              "      <td>1.348691</td>\n",
              "      <td>0</td>\n",
              "      <td>0</td>\n",
              "      <td>-1.866199</td>\n",
              "      <td>-1.732590</td>\n",
              "    </tr>\n",
              "    <tr>\n",
              "      <th>2</th>\n",
              "      <td>-1.023399</td>\n",
              "      <td>1</td>\n",
              "      <td>2</td>\n",
              "      <td>1.360698</td>\n",
              "      <td>0</td>\n",
              "      <td>0</td>\n",
              "      <td>-1.866199</td>\n",
              "      <td>-1.732372</td>\n",
              "    </tr>\n",
              "    <tr>\n",
              "      <th>3</th>\n",
              "      <td>-0.835474</td>\n",
              "      <td>1</td>\n",
              "      <td>2</td>\n",
              "      <td>1.372704</td>\n",
              "      <td>0</td>\n",
              "      <td>0</td>\n",
              "      <td>-1.866199</td>\n",
              "      <td>-1.732153</td>\n",
              "    </tr>\n",
              "    <tr>\n",
              "      <th>4</th>\n",
              "      <td>-0.724658</td>\n",
              "      <td>1</td>\n",
              "      <td>2</td>\n",
              "      <td>1.384711</td>\n",
              "      <td>0</td>\n",
              "      <td>0</td>\n",
              "      <td>-1.866199</td>\n",
              "      <td>-1.731935</td>\n",
              "    </tr>\n",
              "    <tr>\n",
              "      <th>...</th>\n",
              "      <td>...</td>\n",
              "      <td>...</td>\n",
              "      <td>...</td>\n",
              "      <td>...</td>\n",
              "      <td>...</td>\n",
              "      <td>...</td>\n",
              "      <td>...</td>\n",
              "      <td>...</td>\n",
              "    </tr>\n",
              "    <tr>\n",
              "      <th>15881</th>\n",
              "      <td>0.127174</td>\n",
              "      <td>25</td>\n",
              "      <td>0</td>\n",
              "      <td>1.684873</td>\n",
              "      <td>6</td>\n",
              "      <td>0</td>\n",
              "      <td>1.825637</td>\n",
              "      <td>1.731208</td>\n",
              "    </tr>\n",
              "    <tr>\n",
              "      <th>15882</th>\n",
              "      <td>0.120220</td>\n",
              "      <td>25</td>\n",
              "      <td>0</td>\n",
              "      <td>1.696879</td>\n",
              "      <td>6</td>\n",
              "      <td>0</td>\n",
              "      <td>1.825637</td>\n",
              "      <td>1.731426</td>\n",
              "    </tr>\n",
              "    <tr>\n",
              "      <th>15883</th>\n",
              "      <td>0.140016</td>\n",
              "      <td>25</td>\n",
              "      <td>0</td>\n",
              "      <td>1.708885</td>\n",
              "      <td>6</td>\n",
              "      <td>0</td>\n",
              "      <td>1.825637</td>\n",
              "      <td>1.731644</td>\n",
              "    </tr>\n",
              "    <tr>\n",
              "      <th>15884</th>\n",
              "      <td>0.060621</td>\n",
              "      <td>25</td>\n",
              "      <td>0</td>\n",
              "      <td>1.720892</td>\n",
              "      <td>6</td>\n",
              "      <td>0</td>\n",
              "      <td>1.825637</td>\n",
              "      <td>1.731863</td>\n",
              "    </tr>\n",
              "    <tr>\n",
              "      <th>15885</th>\n",
              "      <td>0.105349</td>\n",
              "      <td>26</td>\n",
              "      <td>0</td>\n",
              "      <td>-1.724967</td>\n",
              "      <td>0</td>\n",
              "      <td>0</td>\n",
              "      <td>1.902550</td>\n",
              "      <td>1.732081</td>\n",
              "    </tr>\n",
              "  </tbody>\n",
              "</table>\n",
              "<p>15886 rows × 8 columns</p>\n",
              "</div>\n",
              "      <button class=\"colab-df-convert\" onclick=\"convertToInteractive('df-049852ed-40d2-4619-8ec1-9e09fb95de7b')\"\n",
              "              title=\"Convert this dataframe to an interactive table.\"\n",
              "              style=\"display:none;\">\n",
              "        \n",
              "  <svg xmlns=\"http://www.w3.org/2000/svg\" height=\"24px\"viewBox=\"0 0 24 24\"\n",
              "       width=\"24px\">\n",
              "    <path d=\"M0 0h24v24H0V0z\" fill=\"none\"/>\n",
              "    <path d=\"M18.56 5.44l.94 2.06.94-2.06 2.06-.94-2.06-.94-.94-2.06-.94 2.06-2.06.94zm-11 1L8.5 8.5l.94-2.06 2.06-.94-2.06-.94L8.5 2.5l-.94 2.06-2.06.94zm10 10l.94 2.06.94-2.06 2.06-.94-2.06-.94-.94-2.06-.94 2.06-2.06.94z\"/><path d=\"M17.41 7.96l-1.37-1.37c-.4-.4-.92-.59-1.43-.59-.52 0-1.04.2-1.43.59L10.3 9.45l-7.72 7.72c-.78.78-.78 2.05 0 2.83L4 21.41c.39.39.9.59 1.41.59.51 0 1.02-.2 1.41-.59l7.78-7.78 2.81-2.81c.8-.78.8-2.07 0-2.86zM5.41 20L4 18.59l7.72-7.72 1.47 1.35L5.41 20z\"/>\n",
              "  </svg>\n",
              "      </button>\n",
              "      \n",
              "  <style>\n",
              "    .colab-df-container {\n",
              "      display:flex;\n",
              "      flex-wrap:wrap;\n",
              "      gap: 12px;\n",
              "    }\n",
              "\n",
              "    .colab-df-convert {\n",
              "      background-color: #E8F0FE;\n",
              "      border: none;\n",
              "      border-radius: 50%;\n",
              "      cursor: pointer;\n",
              "      display: none;\n",
              "      fill: #1967D2;\n",
              "      height: 32px;\n",
              "      padding: 0 0 0 0;\n",
              "      width: 32px;\n",
              "    }\n",
              "\n",
              "    .colab-df-convert:hover {\n",
              "      background-color: #E2EBFA;\n",
              "      box-shadow: 0px 1px 2px rgba(60, 64, 67, 0.3), 0px 1px 3px 1px rgba(60, 64, 67, 0.15);\n",
              "      fill: #174EA6;\n",
              "    }\n",
              "\n",
              "    [theme=dark] .colab-df-convert {\n",
              "      background-color: #3B4455;\n",
              "      fill: #D2E3FC;\n",
              "    }\n",
              "\n",
              "    [theme=dark] .colab-df-convert:hover {\n",
              "      background-color: #434B5C;\n",
              "      box-shadow: 0px 1px 3px 1px rgba(0, 0, 0, 0.15);\n",
              "      filter: drop-shadow(0px 1px 2px rgba(0, 0, 0, 0.3));\n",
              "      fill: #FFFFFF;\n",
              "    }\n",
              "  </style>\n",
              "\n",
              "      <script>\n",
              "        const buttonEl =\n",
              "          document.querySelector('#df-049852ed-40d2-4619-8ec1-9e09fb95de7b button.colab-df-convert');\n",
              "        buttonEl.style.display =\n",
              "          google.colab.kernel.accessAllowed ? 'block' : 'none';\n",
              "\n",
              "        async function convertToInteractive(key) {\n",
              "          const element = document.querySelector('#df-049852ed-40d2-4619-8ec1-9e09fb95de7b');\n",
              "          const dataTable =\n",
              "            await google.colab.kernel.invokeFunction('convertToInteractive',\n",
              "                                                     [key], {});\n",
              "          if (!dataTable) return;\n",
              "\n",
              "          const docLinkHtml = 'Like what you see? Visit the ' +\n",
              "            '<a target=\"_blank\" href=https://colab.research.google.com/notebooks/data_table.ipynb>data table notebook</a>'\n",
              "            + ' to learn more about interactive tables.';\n",
              "          element.innerHTML = '';\n",
              "          dataTable['output_type'] = 'display_data';\n",
              "          await google.colab.output.renderOutput(dataTable, element);\n",
              "          const docLink = document.createElement('div');\n",
              "          docLink.innerHTML = docLinkHtml;\n",
              "          element.appendChild(docLink);\n",
              "        }\n",
              "      </script>\n",
              "    </div>\n",
              "  </div>\n",
              "  "
            ]
          },
          "metadata": {},
          "execution_count": 46
        }
      ]
    },
    {
      "cell_type": "markdown",
      "source": [
        "As you can see, the continuous variables are now standardised, while the categorical variables are unchanged. We can now save our data as CSV files and we are ready for the next phase."
      ],
      "metadata": {
        "id": "oGI_noOb_M5Q"
      }
    },
    {
      "cell_type": "code",
      "source": [
        "tr_data_scaled.to_csv(datasets_dir/'train.csv', index=False)\n",
        "tst_data_scaled.to_csv(datasets_dir/'test.csv', index=False)"
      ],
      "metadata": {
        "execution": {
          "iopub.status.busy": "2022-11-04T14:40:05.704648Z",
          "iopub.execute_input": "2022-11-04T14:40:05.705198Z",
          "iopub.status.idle": "2022-11-04T14:40:05.857342Z",
          "shell.execute_reply.started": "2022-11-04T14:40:05.705153Z",
          "shell.execute_reply": "2022-11-04T14:40:05.856372Z"
        },
        "trusted": true,
        "id": "-vezVasc_M5Q"
      },
      "execution_count": null,
      "outputs": []
    },
    {
      "cell_type": "markdown",
      "source": [
        "## 3. VAE Model\n",
        "We first define a `Dataset` class that takes data from either the train set or the test set. It is also able to filter out some of the columns.\n",
        "\n",
        "**Note**: For VAE training, we want to use the column `value` as a feature rather than a label, because we are doing unsupervised learning. In that case, we set the argument `lbl_as_feat` to True. If we were training a supervised model, then we would be able to use the same `Dataset` class but we would need to set `lbl_as_feat` to False, and the dataset would return `value` as a label."
      ],
      "metadata": {
        "id": "1EJ6tB0r_M5R"
      }
    },
    {
      "cell_type": "code",
      "source": [
        "class TSDataset(Dataset):\n",
        "    def __init__(self, split, cont_vars=None, cat_vars=None, lbl_as_feat=True):\n",
        "        \"\"\"\n",
        "        split: 'train' if we want to get data from the training examples, 'test' for\n",
        "        test examples, or 'both' to merge the training and test sets and return samples\n",
        "        from either.\n",
        "        cont_vars: List of continuous variables to return as features. If None, returns\n",
        "        all continuous variables available.\n",
        "        cat_vars: Same as above, but for categorical variables.\n",
        "        lbl_as_feat: Set to True when training a VAE -- the labels (temperature values)\n",
        "        will be included as another dimension of the data. Set to False when training\n",
        "        a model to predict temperatures.\n",
        "        \"\"\"\n",
        "        super().__init__()\n",
        "        assert split in ['train', 'test', 'both']\n",
        "        self.lbl_as_feat = lbl_as_feat\n",
        "        if split == 'train':\n",
        "            self.df = pd.read_csv(datasets_dir/'train.csv')\n",
        "        elif split == 'test':\n",
        "            self.df = pd.read_csv(datasets_dir/'test.csv')\n",
        "        else:\n",
        "            df1 = pd.read_csv(datasets_dir/'train.csv')\n",
        "            df2 = pd.read_csv(datasets_dir/'test.csv')\n",
        "            self.df = pd.concat((df1, df2), ignore_index=True)\n",
        "        \n",
        "        # Select continuous variables to use\n",
        "        if cont_vars:\n",
        "            self.cont_vars = cont_vars\n",
        "            # If we want to use 'value' as a feature, ensure it is returned\n",
        "            if self.lbl_as_feat:\n",
        "                try:\n",
        "                    assert 'value' in self.cont_vars\n",
        "                except AssertionError:\n",
        "                    self.cont_vars.insert(0, 'value')\n",
        "            # If not, ensure it not returned as a feature\n",
        "            else:\n",
        "                try:\n",
        "                    assert 'value' not in self.cont_vars\n",
        "                except AssertionError:\n",
        "                    self.cont_vars.remove('value')\n",
        "                    \n",
        "        else:  # if no list provided, use all available\n",
        "            self.cont_vars = ['value', 'hour_min', 'gap_holiday', 't']\n",
        "        \n",
        "        # Select categorical variables to use\n",
        "        if cat_vars:\n",
        "            self.cat_vars = cat_vars\n",
        "        else:  # if no list provided, use all available\n",
        "            self.cat_vars = ['day', 'month', 'day_of_week', 'holiday']\n",
        "        \n",
        "        # Finally, make two Numpy arrays for continuous and categorical\n",
        "        # variables, respectively:\n",
        "        if self.lbl_as_feat:\n",
        "            self.cont = self.df[self.cont_vars].copy().to_numpy(dtype=np.float32)\n",
        "        else:\n",
        "            self.cont = self.df[self.cont_vars].copy().to_numpy(dtype=np.float32)\n",
        "            self.lbl = self.df['value'].copy().to_numpy(dtype=np.float32)\n",
        "        self.cat = self.df[self.cat_vars].copy().to_numpy(dtype=np.int64)\n",
        "            \n",
        "    def __getitem__(self, idx):\n",
        "        if self.lbl_as_feat:  # for VAE training\n",
        "            return torch.tensor(self.cont[idx]), torch.tensor(self.cat[idx])\n",
        "        else:  # for supervised prediction\n",
        "            return torch.tensor(self.cont[idx]), torch.tensor(self.cat[idx]), torch.tensor(self.lbl[idx])\n",
        "    \n",
        "    def __len__(self):\n",
        "        return self.df.shape[0]"
      ],
      "metadata": {
        "execution": {
          "iopub.status.busy": "2022-11-04T14:40:05.858974Z",
          "iopub.execute_input": "2022-11-04T14:40:05.859357Z",
          "iopub.status.idle": "2022-11-04T14:40:05.873238Z",
          "shell.execute_reply.started": "2022-11-04T14:40:05.859318Z",
          "shell.execute_reply": "2022-11-04T14:40:05.872228Z"
        },
        "trusted": true,
        "id": "Z2by7o5l_M5R"
      },
      "execution_count": null,
      "outputs": []
    },
    {
      "cell_type": "markdown",
      "source": [
        "Let's try to call from our dataset:"
      ],
      "metadata": {
        "id": "a62avYPu_M5S"
      }
    },
    {
      "cell_type": "code",
      "source": [
        "ds = TSDataset(split='both', cont_vars=['value', 't'], cat_vars=['day_of_week', 'holiday'], lbl_as_feat=True)\n",
        "print(len(ds))\n",
        "it = iter(ds)\n",
        "for _ in range(10):\n",
        "    print(next(it))"
      ],
      "metadata": {
        "execution": {
          "iopub.status.busy": "2022-11-04T14:40:05.874578Z",
          "iopub.execute_input": "2022-11-04T14:40:05.875532Z",
          "iopub.status.idle": "2022-11-04T14:40:05.918690Z",
          "shell.execute_reply.started": "2022-11-04T14:40:05.875491Z",
          "shell.execute_reply": "2022-11-04T14:40:05.917658Z"
        },
        "trusted": true,
        "colab": {
          "base_uri": "https://localhost:8080/",
          "height": 356
        },
        "id": "Ac8kT0N4_M5S",
        "outputId": "196a3ead-f647-4ebd-d608-b9d7edf7054c"
      },
      "execution_count": null,
      "outputs": [
        {
          "output_type": "error",
          "ename": "NameError",
          "evalue": "ignored",
          "traceback": [
            "\u001b[0;31m---------------------------------------------------------------------------\u001b[0m",
            "\u001b[0;31mNameError\u001b[0m                                 Traceback (most recent call last)",
            "\u001b[0;32m<ipython-input-53-4cc79e45eec0>\u001b[0m in \u001b[0;36m<cell line: 1>\u001b[0;34m()\u001b[0m\n\u001b[0;32m----> 1\u001b[0;31m \u001b[0mds\u001b[0m \u001b[0;34m=\u001b[0m \u001b[0mTSDataset\u001b[0m\u001b[0;34m(\u001b[0m\u001b[0msplit\u001b[0m\u001b[0;34m=\u001b[0m\u001b[0;34m'both'\u001b[0m\u001b[0;34m,\u001b[0m \u001b[0mcont_vars\u001b[0m\u001b[0;34m=\u001b[0m\u001b[0;34m[\u001b[0m\u001b[0;34m'value'\u001b[0m\u001b[0;34m,\u001b[0m \u001b[0;34m't'\u001b[0m\u001b[0;34m]\u001b[0m\u001b[0;34m,\u001b[0m \u001b[0mcat_vars\u001b[0m\u001b[0;34m=\u001b[0m\u001b[0;34m[\u001b[0m\u001b[0;34m'day_of_week'\u001b[0m\u001b[0;34m,\u001b[0m \u001b[0;34m'holiday'\u001b[0m\u001b[0;34m]\u001b[0m\u001b[0;34m,\u001b[0m \u001b[0mlbl_as_feat\u001b[0m\u001b[0;34m=\u001b[0m\u001b[0;32mTrue\u001b[0m\u001b[0;34m)\u001b[0m\u001b[0;34m\u001b[0m\u001b[0;34m\u001b[0m\u001b[0m\n\u001b[0m\u001b[1;32m      2\u001b[0m \u001b[0mprint\u001b[0m\u001b[0;34m(\u001b[0m\u001b[0mlen\u001b[0m\u001b[0;34m(\u001b[0m\u001b[0mds\u001b[0m\u001b[0;34m)\u001b[0m\u001b[0;34m)\u001b[0m\u001b[0;34m\u001b[0m\u001b[0;34m\u001b[0m\u001b[0m\n\u001b[1;32m      3\u001b[0m \u001b[0mit\u001b[0m \u001b[0;34m=\u001b[0m \u001b[0miter\u001b[0m\u001b[0;34m(\u001b[0m\u001b[0mds\u001b[0m\u001b[0;34m)\u001b[0m\u001b[0;34m\u001b[0m\u001b[0;34m\u001b[0m\u001b[0m\n\u001b[1;32m      4\u001b[0m \u001b[0;32mfor\u001b[0m \u001b[0m_\u001b[0m \u001b[0;32min\u001b[0m \u001b[0mrange\u001b[0m\u001b[0;34m(\u001b[0m\u001b[0;36m10\u001b[0m\u001b[0;34m)\u001b[0m\u001b[0;34m:\u001b[0m\u001b[0;34m\u001b[0m\u001b[0;34m\u001b[0m\u001b[0m\n\u001b[1;32m      5\u001b[0m     \u001b[0mprint\u001b[0m\u001b[0;34m(\u001b[0m\u001b[0mnext\u001b[0m\u001b[0;34m(\u001b[0m\u001b[0mit\u001b[0m\u001b[0;34m)\u001b[0m\u001b[0;34m)\u001b[0m\u001b[0;34m\u001b[0m\u001b[0;34m\u001b[0m\u001b[0m\n",
            "\u001b[0;32m<ipython-input-52-55eef50bf47b>\u001b[0m in \u001b[0;36m__init__\u001b[0;34m(self, split, cont_vars, cat_vars, lbl_as_feat)\u001b[0m\n\u001b[1;32m     20\u001b[0m             \u001b[0mself\u001b[0m\u001b[0;34m.\u001b[0m\u001b[0mdf\u001b[0m \u001b[0;34m=\u001b[0m \u001b[0mpd\u001b[0m\u001b[0;34m.\u001b[0m\u001b[0mread_csv\u001b[0m\u001b[0;34m(\u001b[0m\u001b[0mdatasets_root\u001b[0m\u001b[0;34m/\u001b[0m\u001b[0;34m'test.csv'\u001b[0m\u001b[0;34m)\u001b[0m\u001b[0;34m\u001b[0m\u001b[0;34m\u001b[0m\u001b[0m\n\u001b[1;32m     21\u001b[0m         \u001b[0;32melse\u001b[0m\u001b[0;34m:\u001b[0m\u001b[0;34m\u001b[0m\u001b[0;34m\u001b[0m\u001b[0m\n\u001b[0;32m---> 22\u001b[0;31m             \u001b[0mdf1\u001b[0m \u001b[0;34m=\u001b[0m \u001b[0mpd\u001b[0m\u001b[0;34m.\u001b[0m\u001b[0mread_csv\u001b[0m\u001b[0;34m(\u001b[0m\u001b[0mdatasets_root\u001b[0m\u001b[0;34m/\u001b[0m\u001b[0;34m'train.csv'\u001b[0m\u001b[0;34m)\u001b[0m\u001b[0;34m\u001b[0m\u001b[0;34m\u001b[0m\u001b[0m\n\u001b[0m\u001b[1;32m     23\u001b[0m             \u001b[0mdf2\u001b[0m \u001b[0;34m=\u001b[0m \u001b[0mpd\u001b[0m\u001b[0;34m.\u001b[0m\u001b[0mread_csv\u001b[0m\u001b[0;34m(\u001b[0m\u001b[0mdatasets_root\u001b[0m\u001b[0;34m/\u001b[0m\u001b[0;34m'test.csv'\u001b[0m\u001b[0;34m)\u001b[0m\u001b[0;34m\u001b[0m\u001b[0;34m\u001b[0m\u001b[0m\n\u001b[1;32m     24\u001b[0m             \u001b[0mself\u001b[0m\u001b[0;34m.\u001b[0m\u001b[0mdf\u001b[0m \u001b[0;34m=\u001b[0m \u001b[0mpd\u001b[0m\u001b[0;34m.\u001b[0m\u001b[0mconcat\u001b[0m\u001b[0;34m(\u001b[0m\u001b[0;34m(\u001b[0m\u001b[0mdf1\u001b[0m\u001b[0;34m,\u001b[0m \u001b[0mdf2\u001b[0m\u001b[0;34m)\u001b[0m\u001b[0;34m,\u001b[0m \u001b[0mignore_index\u001b[0m\u001b[0;34m=\u001b[0m\u001b[0;32mTrue\u001b[0m\u001b[0;34m)\u001b[0m\u001b[0;34m\u001b[0m\u001b[0;34m\u001b[0m\u001b[0m\n",
            "\u001b[0;31mNameError\u001b[0m: name 'datasets_root' is not defined"
          ]
        }
      ]
    },
    {
      "cell_type": "markdown",
      "source": [
        "As expected, with `lbl_as_feat==True`, we get two arrays for each sample: An array of continuous values represented by floats, and an array of categorical values represented by integers."
      ],
      "metadata": {
        "id": "dXxDgaDn_M5S"
      }
    },
    {
      "cell_type": "markdown",
      "source": [
        "Now we move on to the fun part: The model itself. First, define individual modules. The core of our neural network will be a sequence of fully connected layers, whose number and sizes are passed through the hyperparameter `layer_dims` (a list of integers). In our experiment, we used `64,128,256,128,64`, i.e. 5 layers of dimensions 64, 128, 256, 128 and 64. Each layer can be batch-normalised. The input into the first layer is an aggregation of the continuous variables and embedding vectors encoding the categorical variables. \n",
        "\n",
        "Embedding vectors are a notion that is heavily used in Natural Language Processing. They are learnable vectors (of dimension 16 in our experiments) that express some non-explicit features of the variables. For instance, the vector for `day_of_week` can take 7 different sets of values (one for each day), each 16-dimensional. Depending on the value of this variable for each sample, the corresponding vector is retrieved in a lookup table, passed to the network, and updated during backpropagation. The vector for `day_of_week==0` could eventually capture the fact that the machine's activity is lower on such days, for instance. The important thing is that this learning is done without our intervention, and there is no easy way to interpret the learned embeddings."
      ],
      "metadata": {
        "id": "uYCIbwxP_M5S"
      }
    },
    {
      "cell_type": "code",
      "source": [
        "class Layer(nn.Module):\n",
        "    '''\n",
        "    A single fully connected layer with optional batch normalisation and activation.\n",
        "    '''\n",
        "    def __init__(self, in_dim, out_dim, bn = True):\n",
        "        super().__init__()\n",
        "        layers = [nn.Linear(in_dim, out_dim)]\n",
        "        if bn: layers.append(nn.BatchNorm1d(out_dim))\n",
        "        layers.append(nn.LeakyReLU(0.1, inplace=True))\n",
        "        self.block = nn.Sequential(*layers)\n",
        "    \n",
        "    def forward(self, x):\n",
        "        return self.block(x)\n",
        "\n",
        "    \n",
        "class Encoder(nn.Module):\n",
        "    '''\n",
        "    The encoder part of our VAE. Takes a data sample and returns the mean and the log-variance of the \n",
        "    latent vector's distribution.\n",
        "    '''\n",
        "    def __init__(self, **hparams):\n",
        "        super().__init__()\n",
        "        self.hparams = Namespace(**hparams)\n",
        "        self.embeds = nn.ModuleList([\n",
        "            nn.Embedding(n_cats, emb_size) for (n_cats, emb_size) in self.hparams.embedding_sizes\n",
        "        ])\n",
        "        # The input to the first layer is the concatenation of all embedding vectors and continuous\n",
        "        # values\n",
        "        in_dim = sum(emb.embedding_dim for emb in self.embeds) + len(self.hparams.cont_vars)\n",
        "        layer_dims = [in_dim] + [int(s) for s in self.hparams.layer_sizes.split(',')]\n",
        "        bn = self.hparams.batch_norm\n",
        "        self.layers = nn.Sequential(\n",
        "            *[Layer(layer_dims[i], layer_dims[i + 1], bn) for i in range(len(layer_dims) - 1)],\n",
        "        )\n",
        "        self.mu = nn.Linear(layer_dims[-1], self.hparams.latent_dim)\n",
        "        self.logvar = nn.Linear(layer_dims[-1], self.hparams.latent_dim)\n",
        "    \n",
        "    def forward(self, x_cont, x_cat):\n",
        "        x_embed = [e(x_cat[:, i]) for i, e in enumerate(self.embeds)]        \n",
        "        x_embed = torch.cat(x_embed, dim=1)\n",
        "        x = torch.cat((x_embed, x_cont), dim=1)\n",
        "        h = self.layers(x)\n",
        "        mu_ = self.mu(h)\n",
        "        logvar_ = self.logvar(h)\n",
        "        return mu_, logvar_, x  # we return the concatenated input vector for use in loss fn\n",
        "    \n",
        "\n",
        "class Decoder(nn.Module):\n",
        "    '''\n",
        "    The decoder part of our VAE. Takes a latent vector (sampled from the distribution learned by the \n",
        "    encoder) and converts it back to a reconstructed data sample.\n",
        "    '''\n",
        "    def __init__(self, **hparams):\n",
        "        super().__init__()\n",
        "        self.hparams = Namespace(**hparams)\n",
        "        hidden_dims = [self.hparams.latent_dim] + [int(s) for s in reversed(self.hparams.layer_sizes.split(','))]\n",
        "        out_dim = sum(emb_size for _, emb_size in self.hparams.embedding_sizes) + len(self.hparams.cont_vars)\n",
        "        bn = self.hparams.batch_norm\n",
        "        self.layers = nn.Sequential(\n",
        "            *[Layer(hidden_dims[i], hidden_dims[i + 1], bn) for i in range(len(hidden_dims) - 1)],\n",
        "        )\n",
        "        self.reconstructed = nn.Linear(hidden_dims[-1], out_dim)\n",
        "        \n",
        "    def forward(self, z):\n",
        "        h = self.layers(z)\n",
        "        recon = self.reconstructed(h)\n",
        "        return recon"
      ],
      "metadata": {
        "execution": {
          "iopub.status.busy": "2022-11-04T14:40:05.925166Z",
          "iopub.execute_input": "2022-11-04T14:40:05.925440Z",
          "iopub.status.idle": "2022-11-04T14:40:05.943690Z",
          "shell.execute_reply.started": "2022-11-04T14:40:05.925414Z",
          "shell.execute_reply": "2022-11-04T14:40:05.942657Z"
        },
        "trusted": true,
        "id": "0CgsuPfL_M5T"
      },
      "execution_count": null,
      "outputs": []
    },
    {
      "cell_type": "markdown",
      "source": [
        "Now for the full VAE, defined as a LightningModule:"
      ],
      "metadata": {
        "id": "MPg3bSYt_M5T"
      }
    },
    {
      "cell_type": "code",
      "source": [
        "class VAE(pl.LightningModule):\n",
        "    def __init__(self, **hparams):\n",
        "        super().__init__()\n",
        "        self.save_hyperparameters()\n",
        "        self.encoder = Encoder(**hparams)\n",
        "        self.decoder = Decoder(**hparams)\n",
        "        \n",
        "    def reparameterize(self, mu, logvar):\n",
        "        '''\n",
        "        The reparameterisation trick allows us to backpropagate through the encoder.\n",
        "        '''\n",
        "        if self.training:\n",
        "            std = torch.exp(0.5 * logvar)\n",
        "            eps = torch.randn_like(std) * self.hparams.stdev\n",
        "            return eps * std + mu\n",
        "        else:\n",
        "            return mu\n",
        "        \n",
        "    def forward(self, batch):\n",
        "        x_cont, x_cat = batch\n",
        "        assert x_cat.dtype == torch.int64\n",
        "        mu, logvar, x = self.encoder(x_cont, x_cat)\n",
        "        z = self.reparameterize(mu, logvar)\n",
        "        recon = self.decoder(z)\n",
        "        return recon, mu, logvar, x\n",
        "        \n",
        "    def loss_function(self, obs, recon, mu, logvar):\n",
        "        recon_loss = F.smooth_l1_loss(recon, obs, reduction='mean')\n",
        "        kld = -0.5 * torch.mean(1 + logvar - mu ** 2 - logvar.exp())\n",
        "        return recon_loss, kld\n",
        "                               \n",
        "    def training_step(self, batch, batch_idx):\n",
        "        recon, mu, logvar, x = self.forward(batch)\n",
        "        # The loss function compares the concatenated input vector including\n",
        "        # embeddings to the reconstructed vector\n",
        "        recon_loss, kld = self.loss_function(x, recon, mu, logvar)\n",
        "        loss = recon_loss + self.hparams.kld_beta * kld\n",
        "\n",
        "        self.log('total_loss', loss, on_step=True, prog_bar=True, \n",
        "                 logger=True)\n",
        "        self.log('recon_loss', recon_loss, on_step=True, prog_bar=True, \n",
        "                 logger=True)\n",
        "        self.log('kld', kld, on_step=True, prog_bar=True, logger=True)\n",
        "        return loss\n",
        "    \n",
        "    def test_step(self, batch, batch_idx):\n",
        "        recon, mu, logvar, x = self.forward(batch)\n",
        "        recon_loss, kld = self.loss_function(x, recon, mu, logvar)\n",
        "        loss = recon_loss + self.hparams.kld_beta * kld\n",
        "        self.log('test_loss', loss)\n",
        "        return loss\n",
        "        \n",
        "    def configure_optimizers(self):\n",
        "        opt = torch.optim.AdamW(self.parameters(), lr=self.hparams.lr, \n",
        "                                weight_decay=self.hparams.weight_decay, \n",
        "                                eps=1e-4)\n",
        "        sch = torch.optim.lr_scheduler.CosineAnnealingWarmRestarts(\n",
        "            opt, T_0=25, T_mult=1, eta_min=1e-9, last_epoch=-1)\n",
        "        return [opt], [sch]\n",
        "    \n",
        "    def train_dataloader(self):\n",
        "        dataset = TSDataset('train', cont_vars=self.hparams.cont_vars, \n",
        "            cat_vars = self.hparams.cat_vars, lbl_as_feat=True\n",
        "        )\n",
        "        return DataLoader(dataset, batch_size=self.hparams.batch_size, num_workers=2, \n",
        "            pin_memory=True, persistent_workers=True, shuffle=True\n",
        "        )\n",
        "    \n",
        "    def test_dataloader(self):\n",
        "        dataset = TSDataset('test', cont_vars=self.hparams.cont_vars,\n",
        "            cat_vars=self.hparams.cat_vars, lbl_as_feat=True\n",
        "        )\n",
        "        return DataLoader(dataset, batch_size=self.hparams.batch_size, num_workers=2, \n",
        "            pin_memory=True, persistent_workers=True\n",
        "        )        "
      ],
      "metadata": {
        "execution": {
          "iopub.status.busy": "2022-11-04T14:40:05.945335Z",
          "iopub.execute_input": "2022-11-04T14:40:05.946048Z",
          "iopub.status.idle": "2022-11-04T14:40:05.964214Z",
          "shell.execute_reply.started": "2022-11-04T14:40:05.946011Z",
          "shell.execute_reply": "2022-11-04T14:40:05.963349Z"
        },
        "trusted": true,
        "id": "PsIAGeur_M5T"
      },
      "execution_count": null,
      "outputs": []
    },
    {
      "cell_type": "markdown",
      "source": [
        "Note that different reconstruction loss functions are possible, the most obvious being the Mean Square Error (MSE). However, it is quite sensitive to outliers. In our case, almost by definition, we expect outliers to be present so it might be useful to use a loss function that is less sensitive to them. We use the Huber loss with $\\delta=1$ (called `smooth_l1_loss` in Pytorch)."
      ],
      "metadata": {
        "id": "O6hN1Sfb_M5U"
      }
    },
    {
      "cell_type": "markdown",
      "source": [
        "Let's define the model and data hyperparameters. Note that `stdev` (the standard deviation of the normal distribution from which we sample $\\epsilon$ in the `reparameterize()` method) would typically be 1. However, several papers found improvements with smaller values, such as 1e-1. This is what we are going to use, as it gives us lower loss values.\n",
        "\n",
        "Another hyperparameter worth mentioning is `kld_beta`, the coefficient applied to the KLD loss term in the total loss computation (this hyperparameter means that our VAE is technically a $\\beta$-VAE). This helps because the reconstruction loss is typically harder to improve than the KLD loss, therefore if both were weighted equally, the model would start by optimising the KLD loss before improving the reconstruction loss substantially. By setting this coefficient to a value < 1, we try to make sure that both loss values improve at a similar rate."
      ],
      "metadata": {
        "id": "Wgz4yuex_M5U"
      }
    },
    {
      "cell_type": "code",
      "source": [
        "cont_features = ['value', 'hour_min', 'gap_holiday', 't'] \n",
        "cat_features = ['day_of_week', 'holiday']  # Remember that we removed `day` and `month`\n",
        "\n",
        "embed_cats = [len(tr_data_scaled[c].unique()) for c in cat_features]\n",
        "\n",
        "hparams = OrderedDict(\n",
        "    run='embsz16_latsz16_bsz128_lay64-128-256-128-64_ep100_cosineWR_v1',\n",
        "    cont_vars = cont_features,\n",
        "    cat_vars = cat_features,\n",
        "    embedding_sizes = [(embed_cats[i], 16) for i in range(len(embed_cats))],\n",
        "    latent_dim = 16,\n",
        "    layer_sizes = '64,128,256,128,64',\n",
        "    batch_norm = True,\n",
        "    stdev = 0.1,\n",
        "    kld_beta = 0.05,\n",
        "    lr = 0.001,\n",
        "    weight_decay = 1e-5,\n",
        "    batch_size = 128,\n",
        "    epochs = 60,\n",
        ")"
      ],
      "metadata": {
        "execution": {
          "iopub.status.busy": "2022-11-04T14:40:05.965702Z",
          "iopub.execute_input": "2022-11-04T14:40:05.966175Z",
          "iopub.status.idle": "2022-11-04T14:40:05.980693Z",
          "shell.execute_reply.started": "2022-11-04T14:40:05.966134Z",
          "shell.execute_reply": "2022-11-04T14:40:05.979722Z"
        },
        "trusted": true,
        "id": "g61ywdn9_M5U"
      },
      "execution_count": null,
      "outputs": []
    },
    {
      "cell_type": "code",
      "source": [
        "hparams"
      ],
      "metadata": {
        "execution": {
          "iopub.status.busy": "2022-11-04T14:40:05.982094Z",
          "iopub.execute_input": "2022-11-04T14:40:05.982603Z",
          "iopub.status.idle": "2022-11-04T14:40:05.993746Z",
          "shell.execute_reply.started": "2022-11-04T14:40:05.982565Z",
          "shell.execute_reply": "2022-11-04T14:40:05.992833Z"
        },
        "trusted": true,
        "colab": {
          "base_uri": "https://localhost:8080/"
        },
        "id": "IQr_98xr_M5U",
        "outputId": "1948674b-3a85-43dc-f482-c288200424e8"
      },
      "execution_count": null,
      "outputs": [
        {
          "output_type": "execute_result",
          "data": {
            "text/plain": [
              "OrderedDict([('run',\n",
              "              'embsz16_latsz16_bsz128_lay64-128-256-128-64_ep100_cosineWR_v1'),\n",
              "             ('cont_vars', ['value', 'hour_min', 'gap_holiday', 't']),\n",
              "             ('cat_vars', ['day_of_week', 'holiday']),\n",
              "             ('embedding_sizes', [(7, 16), (2, 16)]),\n",
              "             ('latent_dim', 16),\n",
              "             ('layer_sizes', '64,128,256,128,64'),\n",
              "             ('batch_norm', True),\n",
              "             ('stdev', 0.1),\n",
              "             ('kld_beta', 0.05),\n",
              "             ('lr', 0.001),\n",
              "             ('weight_decay', 1e-05),\n",
              "             ('batch_size', 128),\n",
              "             ('epochs', 60)])"
            ]
          },
          "metadata": {},
          "execution_count": 56
        }
      ]
    },
    {
      "cell_type": "code",
      "source": [
        "model = VAE(**hparams)\n",
        "logger = WandbLogger(name=hparams['run'], project='VAE_Anomaly', version=hparams['run'],\n",
        "     save_dir=log_path\n",
        ")\n",
        "ckpt_callback = pl.callbacks.ModelCheckpoint(dirpath='.', filename='vae_weights')\n",
        "# Replace argument logger by None if you don't have a WandB account (and don't want to create one)\n",
        "trainer = pl.Trainer(accelerator='gpu', devices=1, logger=logger, \n",
        "                     # strategy='dp',  # changed in recent updates, not used in single-GPU anyway\n",
        "                     # auto_lr_find=False,  # removed in recent updates\n",
        "                     max_epochs=hparams['epochs'], benchmark=True,\n",
        "                     callbacks=[ckpt_callback], gradient_clip_val=10., enable_model_summary=True,\n",
        ")"
      ],
      "metadata": {
        "execution": {
          "iopub.status.busy": "2022-11-04T14:40:05.995272Z",
          "iopub.execute_input": "2022-11-04T14:40:05.995756Z",
          "iopub.status.idle": "2022-11-04T14:41:18.172039Z",
          "shell.execute_reply.started": "2022-11-04T14:40:05.995721Z",
          "shell.execute_reply": "2022-11-04T14:41:18.170709Z"
        },
        "trusted": true,
        "colab": {
          "base_uri": "https://localhost:8080/"
        },
        "id": "Gt8TLzYe_M5V",
        "outputId": "d58fa6d4-6aea-46d8-87a8-7544f8db1821"
      },
      "execution_count": null,
      "outputs": [
        {
          "output_type": "stream",
          "name": "stderr",
          "text": [
            "INFO:pytorch_lightning.utilities.rank_zero:GPU available: True (cuda), used: True\n",
            "INFO:pytorch_lightning.utilities.rank_zero:TPU available: False, using: 0 TPU cores\n",
            "INFO:pytorch_lightning.utilities.rank_zero:IPU available: False, using: 0 IPUs\n",
            "INFO:pytorch_lightning.utilities.rank_zero:HPU available: False, using: 0 HPUs\n"
          ]
        }
      ]
    },
    {
      "cell_type": "code",
      "source": [
        "trainer.fit(model)"
      ],
      "metadata": {
        "_kg_hide-output": true,
        "execution": {
          "iopub.status.busy": "2022-11-04T14:41:18.174249Z",
          "iopub.execute_input": "2022-11-04T14:41:18.174604Z",
          "iopub.status.idle": "2022-11-04T14:44:34.412063Z",
          "shell.execute_reply.started": "2022-11-04T14:41:18.174567Z",
          "shell.execute_reply": "2022-11-04T14:44:34.411061Z"
        },
        "trusted": true,
        "colab": {
          "base_uri": "https://localhost:8080/",
          "height": 257,
          "referenced_widgets": [
            "02e54cb5f2be4637afd5ab687ad045d1",
            "c0f7b0e265db430b83464bf80d22319a",
            "5cb64868705f48aeb3389550c0de7fa3",
            "670d7061db104f01a175b05519f4c706",
            "f4594555d24f45278475c1ff52a8ec88",
            "ca33d08ff36e4dddb0814a6fe4d818dd",
            "d05e83c308b74b08b3ffc58119177cee",
            "cf73695b74b84c558f96aea549dcb1fa",
            "da2f4a0d50444059a2b7f13655deaaa9",
            "dd49894fb0f54a58b10ef6668c5ec3f0",
            "ba4495b242104f5a871e976f6a228204"
          ]
        },
        "id": "FNNq4tDt_M5V",
        "outputId": "77231c71-6a3e-4bef-b1ae-5eafed0d5890"
      },
      "execution_count": null,
      "outputs": [
        {
          "output_type": "stream",
          "name": "stderr",
          "text": [
            "INFO:pytorch_lightning.accelerators.cuda:LOCAL_RANK: 0 - CUDA_VISIBLE_DEVICES: [0]\n",
            "INFO:pytorch_lightning.callbacks.model_summary:\n",
            "  | Name    | Type    | Params\n",
            "------------------------------------\n",
            "0 | encoder | Encoder | 88.4 K\n",
            "1 | decoder | Decoder | 87.2 K\n",
            "------------------------------------\n",
            "175 K     Trainable params\n",
            "0         Non-trainable params\n",
            "175 K     Total params\n",
            "0.702     Total estimated model params size (MB)\n"
          ]
        },
        {
          "output_type": "display_data",
          "data": {
            "text/plain": [
              "Training: 0it [00:00, ?it/s]"
            ],
            "application/vnd.jupyter.widget-view+json": {
              "version_major": 2,
              "version_minor": 0,
              "model_id": "02e54cb5f2be4637afd5ab687ad045d1"
            }
          },
          "metadata": {}
        },
        {
          "output_type": "stream",
          "name": "stderr",
          "text": [
            "INFO:pytorch_lightning.utilities.rank_zero:`Trainer.fit` stopped: `max_epochs=60` reached.\n"
          ]
        }
      ]
    },
    {
      "cell_type": "markdown",
      "source": [
        "Training takes only a few minutes on GPU. Let's see how this model performs on the test set:"
      ],
      "metadata": {
        "id": "JK37YKUZ_M5W"
      }
    },
    {
      "cell_type": "code",
      "source": [
        "trainer.test(model)"
      ],
      "metadata": {
        "execution": {
          "iopub.status.busy": "2022-11-04T14:44:34.413650Z",
          "iopub.execute_input": "2022-11-04T14:44:34.414024Z",
          "iopub.status.idle": "2022-11-04T14:44:35.427129Z",
          "shell.execute_reply.started": "2022-11-04T14:44:34.413984Z",
          "shell.execute_reply": "2022-11-04T14:44:35.426193Z"
        },
        "trusted": true,
        "colab": {
          "base_uri": "https://localhost:8080/",
          "height": 169,
          "referenced_widgets": [
            "83105b8f7c87468584d3cf5f15da7e78",
            "1c67b81f9f8c44b5b7af013af057c759",
            "6e5547d9da5747af95b37a0bed86b0de",
            "9c704ac520e74088b24a6ea33ec3cf1c",
            "57e06b4f4aea4615ae1f4aab2df96db9",
            "a86496cf49964f3c8dd2bf88041c3ed7",
            "114312b592d0487f99e3400aebd596c6",
            "1ae7d9faec584b7581a3655242f2c8ee",
            "569fe444d9f341a0a5a07ea0edd577ca",
            "eed6baf918464779915d82aa703bb782",
            "4fe9bb7b2b8642cfb627bdc866895c3a"
          ]
        },
        "id": "QAMrHWX0_M5X",
        "outputId": "99fab4a3-00f4-40c6-c9cd-aaeae0a4f2cf"
      },
      "execution_count": null,
      "outputs": [
        {
          "output_type": "stream",
          "name": "stderr",
          "text": [
            "INFO:pytorch_lightning.accelerators.cuda:LOCAL_RANK: 0 - CUDA_VISIBLE_DEVICES: [0]\n"
          ]
        },
        {
          "output_type": "display_data",
          "data": {
            "text/plain": [
              "Testing: 0it [00:00, ?it/s]"
            ],
            "application/vnd.jupyter.widget-view+json": {
              "version_major": 2,
              "version_minor": 0,
              "model_id": "83105b8f7c87468584d3cf5f15da7e78"
            }
          },
          "metadata": {}
        },
        {
          "output_type": "display_data",
          "data": {
            "text/plain": [
              "┏━━━━━━━━━━━━━━━━━━━━━━━━━━━┳━━━━━━━━━━━━━━━━━━━━━━━━━━━┓\n",
              "┃\u001b[1m \u001b[0m\u001b[1m       Test metric       \u001b[0m\u001b[1m \u001b[0m┃\u001b[1m \u001b[0m\u001b[1m      DataLoader 0       \u001b[0m\u001b[1m \u001b[0m┃\n",
              "┡━━━━━━━━━━━━━━━━━━━━━━━━━━━╇━━━━━━━━━━━━━━━━━━━━━━━━━━━┩\n",
              "│\u001b[36m \u001b[0m\u001b[36m        test_loss        \u001b[0m\u001b[36m \u001b[0m│\u001b[35m \u001b[0m\u001b[35m  0.030552837997674942   \u001b[0m\u001b[35m \u001b[0m│\n",
              "└───────────────────────────┴───────────────────────────┘\n"
            ],
            "text/html": [
              "<pre style=\"white-space:pre;overflow-x:auto;line-height:normal;font-family:Menlo,'DejaVu Sans Mono',consolas,'Courier New',monospace\">┏━━━━━━━━━━━━━━━━━━━━━━━━━━━┳━━━━━━━━━━━━━━━━━━━━━━━━━━━┓\n",
              "┃<span style=\"font-weight: bold\">        Test metric        </span>┃<span style=\"font-weight: bold\">       DataLoader 0        </span>┃\n",
              "┡━━━━━━━━━━━━━━━━━━━━━━━━━━━╇━━━━━━━━━━━━━━━━━━━━━━━━━━━┩\n",
              "│<span style=\"color: #008080; text-decoration-color: #008080\">         test_loss         </span>│<span style=\"color: #800080; text-decoration-color: #800080\">   0.030552837997674942    </span>│\n",
              "└───────────────────────────┴───────────────────────────┘\n",
              "</pre>\n"
            ]
          },
          "metadata": {}
        },
        {
          "output_type": "execute_result",
          "data": {
            "text/plain": [
              "[{'test_loss': 0.030552837997674942}]"
            ]
          },
          "metadata": {},
          "execution_count": 68
        }
      ]
    },
    {
      "cell_type": "markdown",
      "source": [
        "Hopefully, we should find a test loss that is fairly close to the training loss, indicating that we are not overfitting. A good way to regularise training would be creating a separate validation set and stopping the training early when the loss computed on that set starts to increase (or stops decreasing). Pytorch-Lightning makes early stopping extremely easy to implement: once you have created the validation set, it is just a case of passing an additional argument to the Trainer class. Note also that we could probably improve on these results by further optimising hyperparameters (WandB actually offers an easy framework for running hyperparameter optimisation by random, grid or Bayesian search). For now, let's go with these weights and see if the model can find outliers."
      ],
      "metadata": {
        "id": "i-lFkosi_M5X"
      }
    },
    {
      "cell_type": "code",
      "source": [
        "dataset = TSDataset('test', cont_vars=hparams['cont_vars'],\n",
        "                    cat_vars=['day_of_week', 'holiday'],\n",
        "                    lbl_as_feat=True) "
      ],
      "metadata": {
        "execution": {
          "iopub.status.busy": "2022-11-04T14:44:35.428747Z",
          "iopub.execute_input": "2022-11-04T14:44:35.429480Z",
          "iopub.status.idle": "2022-11-04T14:44:35.453535Z",
          "shell.execute_reply.started": "2022-11-04T14:44:35.429436Z",
          "shell.execute_reply": "2022-11-04T14:44:35.452494Z"
        },
        "trusted": true,
        "id": "jiobxOA-_M5Y"
      },
      "execution_count": null,
      "outputs": []
    },
    {
      "cell_type": "code",
      "source": [
        "trained_model = VAE.load_from_checkpoint('./vae_weights-v1.ckpt')\n",
        "trained_model.freeze()\n",
        "\n",
        "losses = []\n",
        "# run predictions for the test set examples\n",
        "for i in range(len(dataset)):\n",
        "    x_cont, x_cat = dataset[i]\n",
        "    x_cont.unsqueeze_(0)\n",
        "    x_cat.unsqueeze_(0)\n",
        "    recon, mu, logvar, x = trained_model.forward((x_cont, x_cat))\n",
        "    recon_loss, kld = trained_model.loss_function(x, recon, mu, logvar)\n",
        "    losses.append(recon_loss + trained_model.hparams.kld_beta * kld)\n",
        "\n",
        "data_with_losses = dataset.df\n",
        "data_with_losses['loss'] = np.asarray(losses)\n",
        "data_with_losses.sort_values('t', inplace=True)\n",
        "data_with_losses.head()"
      ],
      "metadata": {
        "execution": {
          "iopub.status.busy": "2022-11-04T14:44:35.455336Z",
          "iopub.execute_input": "2022-11-04T14:44:35.456134Z",
          "iopub.status.idle": "2022-11-04T14:44:39.070444Z",
          "shell.execute_reply.started": "2022-11-04T14:44:35.456089Z",
          "shell.execute_reply": "2022-11-04T14:44:39.069519Z"
        },
        "trusted": true,
        "colab": {
          "base_uri": "https://localhost:8080/",
          "height": 206
        },
        "id": "Bajf8dHn_M5Z",
        "outputId": "25437041-8e43-4cf3-fc07-ff7e6600bd46"
      },
      "execution_count": null,
      "outputs": [
        {
          "output_type": "execute_result",
          "data": {
            "text/plain": [
              "      value  day  month  hour_min  day_of_week  holiday  gap_holiday  \\\n",
              "0  0.128276   26      0 -1.712961            0        0      1.90255   \n",
              "1 -0.038872   26      0 -1.700954            0        0      1.90255   \n",
              "2  0.088313   26      0 -1.688948            0        0      1.90255   \n",
              "3  0.124557   26      0 -1.676941            0        0      1.90255   \n",
              "4  0.014094   26      0 -1.664935            0        0      1.90255   \n",
              "\n",
              "          t      loss  \n",
              "0  1.732299  0.007008  \n",
              "1  1.732517  0.007454  \n",
              "2  1.732736  0.006989  \n",
              "3  1.732954  0.006872  \n",
              "4  1.733172  0.007123  "
            ],
            "text/html": [
              "\n",
              "  <div id=\"df-50589d13-224b-4d49-9c8b-ac853c2d8500\">\n",
              "    <div class=\"colab-df-container\">\n",
              "      <div>\n",
              "<style scoped>\n",
              "    .dataframe tbody tr th:only-of-type {\n",
              "        vertical-align: middle;\n",
              "    }\n",
              "\n",
              "    .dataframe tbody tr th {\n",
              "        vertical-align: top;\n",
              "    }\n",
              "\n",
              "    .dataframe thead th {\n",
              "        text-align: right;\n",
              "    }\n",
              "</style>\n",
              "<table border=\"1\" class=\"dataframe\">\n",
              "  <thead>\n",
              "    <tr style=\"text-align: right;\">\n",
              "      <th></th>\n",
              "      <th>value</th>\n",
              "      <th>day</th>\n",
              "      <th>month</th>\n",
              "      <th>hour_min</th>\n",
              "      <th>day_of_week</th>\n",
              "      <th>holiday</th>\n",
              "      <th>gap_holiday</th>\n",
              "      <th>t</th>\n",
              "      <th>loss</th>\n",
              "    </tr>\n",
              "  </thead>\n",
              "  <tbody>\n",
              "    <tr>\n",
              "      <th>0</th>\n",
              "      <td>0.128276</td>\n",
              "      <td>26</td>\n",
              "      <td>0</td>\n",
              "      <td>-1.712961</td>\n",
              "      <td>0</td>\n",
              "      <td>0</td>\n",
              "      <td>1.90255</td>\n",
              "      <td>1.732299</td>\n",
              "      <td>0.007008</td>\n",
              "    </tr>\n",
              "    <tr>\n",
              "      <th>1</th>\n",
              "      <td>-0.038872</td>\n",
              "      <td>26</td>\n",
              "      <td>0</td>\n",
              "      <td>-1.700954</td>\n",
              "      <td>0</td>\n",
              "      <td>0</td>\n",
              "      <td>1.90255</td>\n",
              "      <td>1.732517</td>\n",
              "      <td>0.007454</td>\n",
              "    </tr>\n",
              "    <tr>\n",
              "      <th>2</th>\n",
              "      <td>0.088313</td>\n",
              "      <td>26</td>\n",
              "      <td>0</td>\n",
              "      <td>-1.688948</td>\n",
              "      <td>0</td>\n",
              "      <td>0</td>\n",
              "      <td>1.90255</td>\n",
              "      <td>1.732736</td>\n",
              "      <td>0.006989</td>\n",
              "    </tr>\n",
              "    <tr>\n",
              "      <th>3</th>\n",
              "      <td>0.124557</td>\n",
              "      <td>26</td>\n",
              "      <td>0</td>\n",
              "      <td>-1.676941</td>\n",
              "      <td>0</td>\n",
              "      <td>0</td>\n",
              "      <td>1.90255</td>\n",
              "      <td>1.732954</td>\n",
              "      <td>0.006872</td>\n",
              "    </tr>\n",
              "    <tr>\n",
              "      <th>4</th>\n",
              "      <td>0.014094</td>\n",
              "      <td>26</td>\n",
              "      <td>0</td>\n",
              "      <td>-1.664935</td>\n",
              "      <td>0</td>\n",
              "      <td>0</td>\n",
              "      <td>1.90255</td>\n",
              "      <td>1.733172</td>\n",
              "      <td>0.007123</td>\n",
              "    </tr>\n",
              "  </tbody>\n",
              "</table>\n",
              "</div>\n",
              "      <button class=\"colab-df-convert\" onclick=\"convertToInteractive('df-50589d13-224b-4d49-9c8b-ac853c2d8500')\"\n",
              "              title=\"Convert this dataframe to an interactive table.\"\n",
              "              style=\"display:none;\">\n",
              "        \n",
              "  <svg xmlns=\"http://www.w3.org/2000/svg\" height=\"24px\"viewBox=\"0 0 24 24\"\n",
              "       width=\"24px\">\n",
              "    <path d=\"M0 0h24v24H0V0z\" fill=\"none\"/>\n",
              "    <path d=\"M18.56 5.44l.94 2.06.94-2.06 2.06-.94-2.06-.94-.94-2.06-.94 2.06-2.06.94zm-11 1L8.5 8.5l.94-2.06 2.06-.94-2.06-.94L8.5 2.5l-.94 2.06-2.06.94zm10 10l.94 2.06.94-2.06 2.06-.94-2.06-.94-.94-2.06-.94 2.06-2.06.94z\"/><path d=\"M17.41 7.96l-1.37-1.37c-.4-.4-.92-.59-1.43-.59-.52 0-1.04.2-1.43.59L10.3 9.45l-7.72 7.72c-.78.78-.78 2.05 0 2.83L4 21.41c.39.39.9.59 1.41.59.51 0 1.02-.2 1.41-.59l7.78-7.78 2.81-2.81c.8-.78.8-2.07 0-2.86zM5.41 20L4 18.59l7.72-7.72 1.47 1.35L5.41 20z\"/>\n",
              "  </svg>\n",
              "      </button>\n",
              "      \n",
              "  <style>\n",
              "    .colab-df-container {\n",
              "      display:flex;\n",
              "      flex-wrap:wrap;\n",
              "      gap: 12px;\n",
              "    }\n",
              "\n",
              "    .colab-df-convert {\n",
              "      background-color: #E8F0FE;\n",
              "      border: none;\n",
              "      border-radius: 50%;\n",
              "      cursor: pointer;\n",
              "      display: none;\n",
              "      fill: #1967D2;\n",
              "      height: 32px;\n",
              "      padding: 0 0 0 0;\n",
              "      width: 32px;\n",
              "    }\n",
              "\n",
              "    .colab-df-convert:hover {\n",
              "      background-color: #E2EBFA;\n",
              "      box-shadow: 0px 1px 2px rgba(60, 64, 67, 0.3), 0px 1px 3px 1px rgba(60, 64, 67, 0.15);\n",
              "      fill: #174EA6;\n",
              "    }\n",
              "\n",
              "    [theme=dark] .colab-df-convert {\n",
              "      background-color: #3B4455;\n",
              "      fill: #D2E3FC;\n",
              "    }\n",
              "\n",
              "    [theme=dark] .colab-df-convert:hover {\n",
              "      background-color: #434B5C;\n",
              "      box-shadow: 0px 1px 3px 1px rgba(0, 0, 0, 0.15);\n",
              "      filter: drop-shadow(0px 1px 2px rgba(0, 0, 0, 0.3));\n",
              "      fill: #FFFFFF;\n",
              "    }\n",
              "  </style>\n",
              "\n",
              "      <script>\n",
              "        const buttonEl =\n",
              "          document.querySelector('#df-50589d13-224b-4d49-9c8b-ac853c2d8500 button.colab-df-convert');\n",
              "        buttonEl.style.display =\n",
              "          google.colab.kernel.accessAllowed ? 'block' : 'none';\n",
              "\n",
              "        async function convertToInteractive(key) {\n",
              "          const element = document.querySelector('#df-50589d13-224b-4d49-9c8b-ac853c2d8500');\n",
              "          const dataTable =\n",
              "            await google.colab.kernel.invokeFunction('convertToInteractive',\n",
              "                                                     [key], {});\n",
              "          if (!dataTable) return;\n",
              "\n",
              "          const docLinkHtml = 'Like what you see? Visit the ' +\n",
              "            '<a target=\"_blank\" href=https://colab.research.google.com/notebooks/data_table.ipynb>data table notebook</a>'\n",
              "            + ' to learn more about interactive tables.';\n",
              "          element.innerHTML = '';\n",
              "          dataTable['output_type'] = 'display_data';\n",
              "          await google.colab.output.renderOutput(dataTable, element);\n",
              "          const docLink = document.createElement('div');\n",
              "          docLink.innerHTML = docLinkHtml;\n",
              "          element.appendChild(docLink);\n",
              "        }\n",
              "      </script>\n",
              "    </div>\n",
              "  </div>\n",
              "  "
            ]
          },
          "metadata": {},
          "execution_count": 70
        }
      ]
    },
    {
      "cell_type": "markdown",
      "source": [
        "How are loss values distributed?"
      ],
      "metadata": {
        "id": "_lcVW0JH_M5Z"
      }
    },
    {
      "cell_type": "code",
      "source": [
        "mean, sigma = data_with_losses['loss'].mean(), data_with_losses['loss'].std()\n",
        "mean, sigma"
      ],
      "metadata": {
        "execution": {
          "iopub.status.busy": "2022-11-04T14:44:39.071872Z",
          "iopub.execute_input": "2022-11-04T14:44:39.072428Z",
          "iopub.status.idle": "2022-11-04T14:44:39.081679Z",
          "shell.execute_reply.started": "2022-11-04T14:44:39.072389Z",
          "shell.execute_reply": "2022-11-04T14:44:39.080652Z"
        },
        "trusted": true,
        "colab": {
          "base_uri": "https://localhost:8080/"
        },
        "id": "bhz1q1j4_M5a",
        "outputId": "4398f45a-164c-472a-fa13-9656ce37e7bc"
      },
      "execution_count": null,
      "outputs": [
        {
          "output_type": "execute_result",
          "data": {
            "text/plain": [
              "(0.030552838, 0.01997272)"
            ]
          },
          "metadata": {},
          "execution_count": 71
        }
      ]
    },
    {
      "cell_type": "markdown",
      "source": [
        "Let's define a threshold value beyond which instances are classified as anomalies. Here, we set it based on its quantile in the loss distribution. We choose a very high quantile to make sure we are only getting the trail of that distribution:"
      ],
      "metadata": {
        "id": "9oXnZGjo_M5a"
      }
    },
    {
      "cell_type": "code",
      "source": [
        "quant = 0.999\n",
        "thresh = data_with_losses['loss'].quantile(quant)  # threshold for anomaly (quantile).\n",
        "thresh"
      ],
      "metadata": {
        "execution": {
          "iopub.status.busy": "2022-11-04T15:04:34.897962Z",
          "iopub.execute_input": "2022-11-04T15:04:34.898416Z",
          "iopub.status.idle": "2022-11-04T15:04:34.918635Z",
          "shell.execute_reply.started": "2022-11-04T15:04:34.898375Z",
          "shell.execute_reply": "2022-11-04T15:04:34.917666Z"
        },
        "trusted": true,
        "colab": {
          "base_uri": "https://localhost:8080/"
        },
        "id": "FjtFwl9j_M5b",
        "outputId": "aee5fd7a-3470-4b70-9484-2e718a70e0a5"
      },
      "execution_count": null,
      "outputs": [
        {
          "output_type": "execute_result",
          "data": {
            "text/plain": [
              "0.0961497806906702"
            ]
          },
          "metadata": {},
          "execution_count": 72
        }
      ]
    },
    {
      "cell_type": "markdown",
      "source": [
        "We can now flag as anomalies any instance where the loss is very far from the centre of the distribution:"
      ],
      "metadata": {
        "id": "sei1Gdd2_M5b"
      }
    },
    {
      "cell_type": "code",
      "source": [
        "data_with_losses['anomaly'] = data_with_losses['loss'] > thresh\n",
        "print(data_with_losses.head())"
      ],
      "metadata": {
        "execution": {
          "iopub.status.busy": "2022-11-04T15:04:36.684490Z",
          "iopub.execute_input": "2022-11-04T15:04:36.684939Z",
          "iopub.status.idle": "2022-11-04T15:04:36.710866Z",
          "shell.execute_reply.started": "2022-11-04T15:04:36.684902Z",
          "shell.execute_reply": "2022-11-04T15:04:36.708456Z"
        },
        "trusted": true,
        "colab": {
          "base_uri": "https://localhost:8080/"
        },
        "id": "wote6JFy_M5b",
        "outputId": "5c3bdf0b-a487-4894-9a15-74ed53a6fa2d"
      },
      "execution_count": null,
      "outputs": [
        {
          "output_type": "stream",
          "name": "stdout",
          "text": [
            "      value  day  month  hour_min  day_of_week  holiday  gap_holiday  \\\n",
            "0  0.128276   26      0 -1.712961            0        0      1.90255   \n",
            "1 -0.038872   26      0 -1.700954            0        0      1.90255   \n",
            "2  0.088313   26      0 -1.688948            0        0      1.90255   \n",
            "3  0.124557   26      0 -1.676941            0        0      1.90255   \n",
            "4  0.014094   26      0 -1.664935            0        0      1.90255   \n",
            "\n",
            "          t      loss  anomaly  \n",
            "0  1.732299  0.007008    False  \n",
            "1  1.732517  0.007454    False  \n",
            "2  1.732736  0.006989    False  \n",
            "3  1.732954  0.006872    False  \n",
            "4  1.733172  0.007123    False  \n"
          ]
        }
      ]
    },
    {
      "cell_type": "markdown",
      "source": [
        "Let's see this in a histogram. The orange colour denotes anomalies."
      ],
      "metadata": {
        "id": "js31_qiY_M5c"
      }
    },
    {
      "cell_type": "code",
      "source": [
        "plt.figure(figsize=(8, 8))\n",
        "anomalies_loss = data_with_losses.loc[data_with_losses['anomaly'], 'loss']\n",
        "normals_loss   = data_with_losses.loc[~data_with_losses['anomaly'], 'loss']\n",
        "plt.hist([normals_loss, anomalies_loss], bins=200, stacked=True, label=['normal', 'abnormal'])\n",
        "plt.title(\"Distribution of Reconstruction Loss, Test Set\")\n",
        "plt.xlabel(\"VAE Reconstruction Loss (binned)\")\n",
        "plt.ylabel(\"Count\")\n",
        "plt.legend();"
      ],
      "metadata": {
        "execution": {
          "iopub.status.busy": "2022-11-04T15:04:39.036467Z",
          "iopub.execute_input": "2022-11-04T15:04:39.037143Z",
          "iopub.status.idle": "2022-11-04T15:04:40.117493Z",
          "shell.execute_reply.started": "2022-11-04T15:04:39.037105Z",
          "shell.execute_reply": "2022-11-04T15:04:40.116539Z"
        },
        "trusted": true,
        "colab": {
          "base_uri": "https://localhost:8080/",
          "height": 718
        },
        "id": "v44dMZcg_M5c",
        "outputId": "80bbd55f-b301-411e-cc2c-ca404288aeba"
      },
      "execution_count": null,
      "outputs": [
        {
          "output_type": "display_data",
          "data": {
            "text/plain": [
              "<Figure size 800x800 with 1 Axes>"
            ],
            "image/png": "[encoded data removed]"
          },
          "metadata": {}
        }
      ]
    },
    {
      "cell_type": "markdown",
      "source": [
        "What does it mean in terms of the distribution of the temperature values? We first \"unscale\" the data to put each feature back into the value ranges of the raw dataset."
      ],
      "metadata": {
        "id": "8BiMOBaj_M5c"
      }
    },
    {
      "cell_type": "code",
      "source": [
        "data_with_losses_unscaled = data_with_losses.copy()\n",
        "data_with_losses_unscaled[cont_vars] = scaler.inverse_transform(data_with_losses[cont_vars])\n",
        "for enc, var in zip(label_encoders, cat_vars):\n",
        "    data_with_losses_unscaled[var] = enc.inverse_transform(data_with_losses[var])\n",
        "data_with_losses_unscaled = pd.DataFrame(data_with_losses_unscaled, columns=data_with_losses.columns)\n",
        "data_with_losses_unscaled['timestamp'] = pd.to_datetime(data_with_losses_unscaled['t'] * 1e11, unit='ns')\n",
        "\n",
        "print(data_with_losses_unscaled.head())"
      ],
      "metadata": {
        "execution": {
          "iopub.status.busy": "2022-11-04T15:04:41.997505Z",
          "iopub.execute_input": "2022-11-04T15:04:41.998203Z",
          "iopub.status.idle": "2022-11-04T15:04:42.023363Z",
          "shell.execute_reply.started": "2022-11-04T15:04:41.998166Z",
          "shell.execute_reply": "2022-11-04T15:04:42.022296Z"
        },
        "trusted": true,
        "colab": {
          "base_uri": "https://localhost:8080/"
        },
        "id": "IS9iCpny_M5c",
        "outputId": "85da7232-073d-4fb8-c394-66d844c53cc8"
      },
      "execution_count": null,
      "outputs": [
        {
          "output_type": "stream",
          "name": "stdout",
          "text": [
            "       value  day  month  hour_min  day_of_week  holiday  gap_holiday  \\\n",
            "0  88.482330   27      1  0.083333            0        0         26.0   \n",
            "1  86.688731   27      1  0.166667            0        0         26.0   \n",
            "2  88.053503   27      1  0.250000            0        0         26.0   \n",
            "3  88.442419   27      1  0.333333            0        0         26.0   \n",
            "4  87.257083   27      1  0.416667            0        0         26.0   \n",
            "\n",
            "            t      loss  anomaly           timestamp  \n",
            "0  13907811.0  0.007008    False 2014-01-27 00:05:00  \n",
            "1  13907814.0  0.007454    False 2014-01-27 00:10:00  \n",
            "2  13907817.0  0.006989    False 2014-01-27 00:15:00  \n",
            "3  13907820.0  0.006872    False 2014-01-27 00:20:00  \n",
            "4  13907823.0  0.007123    False 2014-01-27 00:25:00  \n"
          ]
        }
      ]
    },
    {
      "cell_type": "markdown",
      "source": [
        "Then we build the histogram of `values`, coloured depending on whether or not the loss value for the corresponding observations are considered abnormal or not. "
      ],
      "metadata": {
        "id": "YwUgVgnx_M5d"
      }
    },
    {
      "cell_type": "code",
      "source": [
        "anomalies_value = data_with_losses_unscaled.loc[data_with_losses_unscaled['anomaly'], ['loss','value']]\n",
        "normals_value = data_with_losses_unscaled.loc[~data_with_losses_unscaled['anomaly'], ['loss','value']]\n",
        "plt.figure(figsize=(8,8))\n",
        "plt.hist([normals_value['value'], anomalies_value['value']], bins=200, stacked=True, label=['normal', 'abnormal'])\n",
        "plt.title(\"Temperature Distribution, Test Set\")\n",
        "plt.xlabel(\"Temperature (binned)\")\n",
        "plt.ylabel(\"Count\")\n",
        "plt.legend();"
      ],
      "metadata": {
        "execution": {
          "iopub.status.busy": "2022-11-04T15:04:44.670305Z",
          "iopub.execute_input": "2022-11-04T15:04:44.670993Z",
          "iopub.status.idle": "2022-11-04T15:04:45.755882Z",
          "shell.execute_reply.started": "2022-11-04T15:04:44.670959Z",
          "shell.execute_reply": "2022-11-04T15:04:45.754809Z"
        },
        "trusted": true,
        "colab": {
          "base_uri": "https://localhost:8080/",
          "height": 718
        },
        "id": "lItq_Gu-_M5d",
        "outputId": "c112b27b-43bf-4f87-a81f-b0893468fe06"
      },
      "execution_count": null,
      "outputs": [
        {
          "output_type": "display_data",
          "data": {
            "text/plain": [
              "<Figure size 800x800 with 1 Axes>"
            ],
            "image/png": "[encoded data removed]"
          },
          "metadata": {}
        }
      ]
    },
    {
      "cell_type": "code",
      "source": [
        "anomalies_ts = data_with_losses_unscaled.loc[data_with_losses_unscaled['anomaly'], ('timestamp', 'value')]\n",
        "fig, ax = plt.subplots(figsize=(12, 8))\n",
        "ax.plot(data_with_losses_unscaled['timestamp'], data_with_losses_unscaled['value'], alpha=.5)\n",
        "ax.scatter(anomalies_ts['timestamp'], anomalies_ts['value'], color='red', label='anomaly')\n",
        "plt.legend()\n",
        "plt.xlabel(\"timestamp\")\n",
        "plt.ylabel(\"temperature\")\n",
        "plt.title(\"Location of the Anomalies on the Time Series, Test Period\");"
      ],
      "metadata": {
        "execution": {
          "iopub.status.busy": "2022-11-04T15:04:48.957177Z",
          "iopub.execute_input": "2022-11-04T15:04:48.957541Z",
          "iopub.status.idle": "2022-11-04T15:04:49.277636Z",
          "shell.execute_reply.started": "2022-11-04T15:04:48.957509Z",
          "shell.execute_reply": "2022-11-04T15:04:49.276784Z"
        },
        "trusted": true,
        "colab": {
          "base_uri": "https://localhost:8080/",
          "height": 718
        },
        "id": "_Nc0JlSy_M5e",
        "outputId": "0cfe46fa-6ae7-4318-de0a-488814dc228e"
      },
      "execution_count": null,
      "outputs": [
        {
          "output_type": "display_data",
          "data": {
            "text/plain": [
              "<Figure size 1200x800 with 1 Axes>"
            ],
            "image/png": "[encoded data removed]"
          },
          "metadata": {}
        }
      ]
    },
    {
      "cell_type": "markdown",
      "source": [
        "It's a little hard to tell on this figure, but the instances flagged as abnormal (stacked over the normal ones near the left-hand tail) are not at the extreme end of the temperature spectrum, as they would have been if we had used a more naive approach based only on the temperature. Let see these flagged examples on the original timeseries:\n"
      ],
      "metadata": {
        "id": "8EzvriLu_M5e"
      }
    },
    {
      "cell_type": "markdown",
      "source": [
        "With a threshold at the 99.9th centile, our model correctly detects the anomaly present in the test period, albeit a bit late, and does not generate any false positives. The threshold that we defined can be adjusted to favour precision or recall and the optimal value could be determined by the area under the precision-recall curve. It would also be interesting to perform an ablation study to understand which of the engineered features are the most helpful.\n",
        "\n",
        "I hope this notebook was informative and gave you some insight into VAEs and their usefulness in anomaly detection!"
      ],
      "metadata": {
        "id": "MmDxd0_o_M5e"
      }
    },
    {
      "cell_type": "markdown",
      "source": [
        "## References\n",
        "\\[1\\] Doersch, C. (2016). Tutorial on variational autoencoders. arXiv preprint arXiv:1606.05908.  \n",
        "\\[2\\] Ahmad, S., Lavin, A., Purdy, S., & Agha, Z. (2017). Unsupervised real-time anomaly detection for streaming data. Neurocomputing, 262, 134-147."
      ],
      "metadata": {
        "id": "095tGIML_M5f"
      }
    }
  ]
}